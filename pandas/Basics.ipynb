{
 "metadata": {
  "name": ""
 },
 "nbformat": 3,
 "nbformat_minor": 0,
 "worksheets": [
  {
   "cells": [
    {
     "cell_type": "code",
     "collapsed": true,
     "input": [
      "from pandas import *\n",
      "import pandas\n",
      "import numpy as np\n",
      "import matplotlib.pyplot as plt\n",
      "\n",
      "def side_by_side(*objs, **kwds):\n",
      "    from pandas.core.common import adjoin\n",
      "    space = kwds.get('space', 4)\n",
      "    reprs = [repr(obj).split('\\n') for obj in objs]\n",
      "    print adjoin(space, *reprs)\n",
      "\n",
      "plt.rc('figure', figsize=(10, 6))\n",
      "# pandas.set_printoptions(notebook_repr_html=False)"
     ],
     "language": "python",
     "metadata": {},
     "outputs": [],
     "prompt_number": 3
    },
    {
     "cell_type": "markdown",
     "metadata": {},
     "source": [
      "Series\n",
      "======"
     ]
    },
    {
     "cell_type": "code",
     "collapsed": false,
     "input": [
      "randn(5)"
     ],
     "language": "python",
     "metadata": {},
     "outputs": [
      {
       "metadata": {},
       "output_type": "pyout",
       "prompt_number": 4,
       "text": [
        "array([-0.1892595 ,  0.11423108,  1.5692318 ,  0.13569632,  0.68528012])"
       ]
      }
     ],
     "prompt_number": 4
    },
    {
     "cell_type": "code",
     "collapsed": false,
     "input": [
      "labels = ['a', 'b', 'c', 'd', 'e']\n",
      "s = Series(randn(5), index=labels)\n",
      "s"
     ],
     "language": "python",
     "metadata": {},
     "outputs": [
      {
       "metadata": {},
       "output_type": "pyout",
       "prompt_number": 5,
       "text": [
        "a    0.265713\n",
        "b    0.651864\n",
        "c   -1.071903\n",
        "d   -2.720946\n",
        "e   -1.346370\n",
        "dtype: float64"
       ]
      }
     ],
     "prompt_number": 5
    },
    {
     "cell_type": "code",
     "collapsed": false,
     "input": [
      "'b' in s"
     ],
     "language": "python",
     "metadata": {},
     "outputs": [
      {
       "metadata": {},
       "output_type": "pyout",
       "prompt_number": 6,
       "text": [
        "True"
       ]
      }
     ],
     "prompt_number": 6
    },
    {
     "cell_type": "code",
     "collapsed": false,
     "input": [
      "s['b']"
     ],
     "language": "python",
     "metadata": {},
     "outputs": [
      {
       "metadata": {},
       "output_type": "pyout",
       "prompt_number": 7,
       "text": [
        "0.65186404565079137"
       ]
      }
     ],
     "prompt_number": 7
    },
    {
     "cell_type": "code",
     "collapsed": false,
     "input": [
      "s"
     ],
     "language": "python",
     "metadata": {},
     "outputs": [
      {
       "metadata": {},
       "output_type": "pyout",
       "prompt_number": 8,
       "text": [
        "a    0.265713\n",
        "b    0.651864\n",
        "c   -1.071903\n",
        "d   -2.720946\n",
        "e   -1.346370\n",
        "dtype: float64"
       ]
      }
     ],
     "prompt_number": 8
    },
    {
     "cell_type": "code",
     "collapsed": false,
     "input": [
      "mapping = s.to_dict() # Convert Series to dict\n",
      "mapping"
     ],
     "language": "python",
     "metadata": {},
     "outputs": [
      {
       "metadata": {},
       "output_type": "pyout",
       "prompt_number": 10,
       "text": [
        "{'a': 0.26571282712905381,\n",
        " 'b': 0.65186404565079137,\n",
        " 'c': -1.0719033608816564,\n",
        " 'd': -2.7209459917383763,\n",
        " 'e': -1.3463703513665344}"
       ]
      }
     ],
     "prompt_number": 10
    },
    {
     "cell_type": "code",
     "collapsed": false,
     "input": [
      "s.index"
     ],
     "language": "python",
     "metadata": {},
     "outputs": [
      {
       "metadata": {},
       "output_type": "pyout",
       "prompt_number": 9,
       "text": [
        "Index([u'a', u'b', u'c', u'd', u'e'], dtype=object)"
       ]
      }
     ],
     "prompt_number": 9
    },
    {
     "cell_type": "code",
     "collapsed": false,
     "input": [
      "s = Series(mapping) # Convert dict to Series\n",
      "s"
     ],
     "language": "python",
     "metadata": {},
     "outputs": [
      {
       "metadata": {},
       "output_type": "pyout",
       "prompt_number": 11,
       "text": [
        "a    0.265713\n",
        "b    0.651864\n",
        "c   -1.071903\n",
        "d   -2.720946\n",
        "e   -1.346370\n",
        "dtype: float64"
       ]
      }
     ],
     "prompt_number": 11
    },
    {
     "cell_type": "code",
     "collapsed": false,
     "input": [
      "s[:3]"
     ],
     "language": "python",
     "metadata": {},
     "outputs": [],
     "prompt_number": 8
    },
    {
     "cell_type": "code",
     "collapsed": false,
     "input": [
      "# You can also set indexes to match another series\n",
      "a = Series(mapping, index=['b','e','a','d'])\n",
      "a"
     ],
     "language": "python",
     "metadata": {},
     "outputs": [
      {
       "metadata": {},
       "output_type": "pyout",
       "prompt_number": 12,
       "text": [
        "b    0.651864\n",
        "e   -1.346370\n",
        "a    0.265713\n",
        "d   -2.720946\n",
        "dtype: float64"
       ]
      }
     ],
     "prompt_number": 12
    },
    {
     "cell_type": "code",
     "collapsed": false,
     "input": [
      "isnull(s)\n",
      "s[notnull(s)]  # Filter out missing data\n",
      "\n",
      "# You can also use dropna\n",
      "s.dropna()\n"
     ],
     "language": "python",
     "metadata": {},
     "outputs": [
      {
       "metadata": {},
       "output_type": "pyout",
       "prompt_number": 15,
       "text": [
        "a    0.265713\n",
        "b    0.651864\n",
        "c   -1.071903\n",
        "d   -2.720946\n",
        "e   -1.346370\n",
        "dtype: float64"
       ]
      }
     ],
     "prompt_number": 15
    },
    {
     "cell_type": "code",
     "collapsed": false,
     "input": [
      "s * 2"
     ],
     "language": "python",
     "metadata": {},
     "outputs": [
      {
       "metadata": {},
       "output_type": "pyout",
       "prompt_number": 16,
       "text": [
        "a    0.531426\n",
        "b    1.303728\n",
        "c   -2.143807\n",
        "d   -5.441892\n",
        "e   -2.692741\n",
        "dtype: float64"
       ]
      }
     ],
     "prompt_number": 16
    },
    {
     "cell_type": "code",
     "collapsed": false,
     "input": [
      "s.index"
     ],
     "language": "python",
     "metadata": {},
     "outputs": [
      {
       "metadata": {},
       "output_type": "pyout",
       "prompt_number": 18,
       "text": [
        "Index([u'a', u'b', u'c', u'd', u'e'], dtype=object)"
       ]
      }
     ],
     "prompt_number": 18
    },
    {
     "cell_type": "code",
     "collapsed": false,
     "input": [
      "arr = randn(5)\n",
      "arr[:3]"
     ],
     "language": "python",
     "metadata": {},
     "outputs": [
      {
       "metadata": {},
       "output_type": "pyout",
       "prompt_number": 17,
       "text": [
        "array([-0.82473577, -0.41836214,  0.38508755])"
       ]
      }
     ],
     "prompt_number": 17
    },
    {
     "cell_type": "markdown",
     "metadata": {},
     "source": [
      "DataFrame: 2D collection of Series\n",
      "=================================="
     ]
    },
    {
     "cell_type": "code",
     "collapsed": false,
     "input": [
      "# Creating a data frame\n",
      "# You can pass lists, tuples, etc\n",
      "\n",
      "df = DataFrame({'a': np.random.randn(6),\n",
      "                'b': ['foo', 'bar'] * 3,\n",
      "                'c': np.random.randn(6)})\n",
      "df\n"
     ],
     "language": "python",
     "metadata": {},
     "outputs": [
      {
       "html": [
        "<div style=\"max-height:1000px;max-width:1500px;overflow:auto;\">\n",
        "<table border=\"1\" class=\"dataframe\">\n",
        "  <thead>\n",
        "    <tr style=\"text-align: right;\">\n",
        "      <th></th>\n",
        "      <th>a</th>\n",
        "      <th>b</th>\n",
        "      <th>c</th>\n",
        "    </tr>\n",
        "  </thead>\n",
        "  <tbody>\n",
        "    <tr>\n",
        "      <th>0</th>\n",
        "      <td> 0.772040</td>\n",
        "      <td> foo</td>\n",
        "      <td>-0.556227</td>\n",
        "    </tr>\n",
        "    <tr>\n",
        "      <th>1</th>\n",
        "      <td>-1.159604</td>\n",
        "      <td> bar</td>\n",
        "      <td> 1.517171</td>\n",
        "    </tr>\n",
        "    <tr>\n",
        "      <th>2</th>\n",
        "      <td>-0.052329</td>\n",
        "      <td> foo</td>\n",
        "      <td>-0.249776</td>\n",
        "    </tr>\n",
        "    <tr>\n",
        "      <th>3</th>\n",
        "      <td> 1.400722</td>\n",
        "      <td> bar</td>\n",
        "      <td> 0.100520</td>\n",
        "    </tr>\n",
        "    <tr>\n",
        "      <th>4</th>\n",
        "      <td>-1.016582</td>\n",
        "      <td> foo</td>\n",
        "      <td>-0.593361</td>\n",
        "    </tr>\n",
        "    <tr>\n",
        "      <th>5</th>\n",
        "      <td> 0.548915</td>\n",
        "      <td> bar</td>\n",
        "      <td>-0.372322</td>\n",
        "    </tr>\n",
        "  </tbody>\n",
        "</table>\n",
        "</div>"
       ],
       "metadata": {},
       "output_type": "pyout",
       "prompt_number": 21,
       "text": [
        "          a    b         c\n",
        "0  0.772040  foo -0.556227\n",
        "1 -1.159604  bar  1.517171\n",
        "2 -0.052329  foo -0.249776\n",
        "3  1.400722  bar  0.100520\n",
        "4 -1.016582  foo -0.593361\n",
        "5  0.548915  bar -0.372322"
       ]
      }
     ],
     "prompt_number": 21
    },
    {
     "cell_type": "code",
     "collapsed": false,
     "input": [
      "df.index"
     ],
     "language": "python",
     "metadata": {},
     "outputs": [
      {
       "metadata": {},
       "output_type": "pyout",
       "prompt_number": 23,
       "text": [
        "Int64Index([0, 1, 2, 3, 4, 5], dtype=int64)"
       ]
      }
     ],
     "prompt_number": 23
    },
    {
     "cell_type": "code",
     "collapsed": false,
     "input": [
      "df['a'] # Gives column a"
     ],
     "language": "python",
     "metadata": {},
     "outputs": [
      {
       "metadata": {},
       "output_type": "pyout",
       "prompt_number": 22,
       "text": [
        "0    0.772040\n",
        "1   -1.159604\n",
        "2   -0.052329\n",
        "3    1.400722\n",
        "4   -1.016582\n",
        "5    0.548915\n",
        "Name: a, dtype: float64"
       ]
      }
     ],
     "prompt_number": 22
    },
    {
     "cell_type": "code",
     "collapsed": false,
     "input": [
      "# Create a new column with 5\n",
      "df['d'] = 5"
     ],
     "language": "python",
     "metadata": {},
     "outputs": [],
     "prompt_number": 24
    },
    {
     "cell_type": "code",
     "collapsed": false,
     "input": [
      "df # New Column d = 5"
     ],
     "language": "python",
     "metadata": {},
     "outputs": [
      {
       "html": [
        "<div style=\"max-height:1000px;max-width:1500px;overflow:auto;\">\n",
        "<table border=\"1\" class=\"dataframe\">\n",
        "  <thead>\n",
        "    <tr style=\"text-align: right;\">\n",
        "      <th></th>\n",
        "      <th>a</th>\n",
        "      <th>b</th>\n",
        "      <th>c</th>\n",
        "      <th>d</th>\n",
        "    </tr>\n",
        "  </thead>\n",
        "  <tbody>\n",
        "    <tr>\n",
        "      <th>0</th>\n",
        "      <td> 0.772040</td>\n",
        "      <td> foo</td>\n",
        "      <td>-0.556227</td>\n",
        "      <td> 5</td>\n",
        "    </tr>\n",
        "    <tr>\n",
        "      <th>1</th>\n",
        "      <td>-1.159604</td>\n",
        "      <td> bar</td>\n",
        "      <td> 1.517171</td>\n",
        "      <td> 5</td>\n",
        "    </tr>\n",
        "    <tr>\n",
        "      <th>2</th>\n",
        "      <td>-0.052329</td>\n",
        "      <td> foo</td>\n",
        "      <td>-0.249776</td>\n",
        "      <td> 5</td>\n",
        "    </tr>\n",
        "    <tr>\n",
        "      <th>3</th>\n",
        "      <td> 1.400722</td>\n",
        "      <td> bar</td>\n",
        "      <td> 0.100520</td>\n",
        "      <td> 5</td>\n",
        "    </tr>\n",
        "    <tr>\n",
        "      <th>4</th>\n",
        "      <td>-1.016582</td>\n",
        "      <td> foo</td>\n",
        "      <td>-0.593361</td>\n",
        "      <td> 5</td>\n",
        "    </tr>\n",
        "    <tr>\n",
        "      <th>5</th>\n",
        "      <td> 0.548915</td>\n",
        "      <td> bar</td>\n",
        "      <td>-0.372322</td>\n",
        "      <td> 5</td>\n",
        "    </tr>\n",
        "  </tbody>\n",
        "</table>\n",
        "</div>"
       ],
       "metadata": {},
       "output_type": "pyout",
       "prompt_number": 25,
       "text": [
        "          a    b         c  d\n",
        "0  0.772040  foo -0.556227  5\n",
        "1 -1.159604  bar  1.517171  5\n",
        "2 -0.052329  foo -0.249776  5\n",
        "3  1.400722  bar  0.100520  5\n",
        "4 -1.016582  foo -0.593361  5\n",
        "5  0.548915  bar -0.372322  5"
       ]
      }
     ],
     "prompt_number": 25
    },
    {
     "cell_type": "code",
     "collapsed": false,
     "input": [
      "df.columns"
     ],
     "language": "python",
     "metadata": {},
     "outputs": [
      {
       "metadata": {},
       "output_type": "pyout",
       "prompt_number": 26,
       "text": [
        "Index([u'a', u'b', u'c', u'd'], dtype=object)"
       ]
      }
     ],
     "prompt_number": 26
    },
    {
     "cell_type": "code",
     "collapsed": false,
     "input": [
      "df.xs(0) # Returns Row 0\n",
      "df[:1]"
     ],
     "language": "python",
     "metadata": {},
     "outputs": [
      {
       "html": [
        "<div style=\"max-height:1000px;max-width:1500px;overflow:auto;\">\n",
        "<table border=\"1\" class=\"dataframe\">\n",
        "  <thead>\n",
        "    <tr style=\"text-align: right;\">\n",
        "      <th></th>\n",
        "      <th>a</th>\n",
        "      <th>b</th>\n",
        "      <th>c</th>\n",
        "      <th>d</th>\n",
        "    </tr>\n",
        "  </thead>\n",
        "  <tbody>\n",
        "    <tr>\n",
        "      <th>0</th>\n",
        "      <td> 0.77204</td>\n",
        "      <td> foo</td>\n",
        "      <td>-0.556227</td>\n",
        "      <td> 5</td>\n",
        "    </tr>\n",
        "  </tbody>\n",
        "</table>\n",
        "</div>"
       ],
       "metadata": {},
       "output_type": "pyout",
       "prompt_number": 29,
       "text": [
        "         a    b         c  d\n",
        "0  0.77204  foo -0.556227  5"
       ]
      }
     ],
     "prompt_number": 29
    },
    {
     "cell_type": "code",
     "collapsed": false,
     "input": [],
     "language": "python",
     "metadata": {},
     "outputs": []
    },
    {
     "cell_type": "code",
     "collapsed": false,
     "input": [
      "# Select subsets of rows\n",
      "# Label indexing facility\n",
      "# Scalar element at b\n",
      "# Select 2nd:4th row of column b and c\n",
      "df.ix[2:4, ['b','c']]"
     ],
     "language": "python",
     "metadata": {},
     "outputs": [
      {
       "html": [
        "<div style=\"max-height:1000px;max-width:1500px;overflow:auto;\">\n",
        "<table border=\"1\" class=\"dataframe\">\n",
        "  <thead>\n",
        "    <tr style=\"text-align: right;\">\n",
        "      <th></th>\n",
        "      <th>b</th>\n",
        "      <th>c</th>\n",
        "    </tr>\n",
        "  </thead>\n",
        "  <tbody>\n",
        "    <tr>\n",
        "      <th>2</th>\n",
        "      <td> foo</td>\n",
        "      <td>-0.249776</td>\n",
        "    </tr>\n",
        "    <tr>\n",
        "      <th>3</th>\n",
        "      <td> bar</td>\n",
        "      <td> 0.100520</td>\n",
        "    </tr>\n",
        "    <tr>\n",
        "      <th>4</th>\n",
        "      <td> foo</td>\n",
        "      <td>-0.593361</td>\n",
        "    </tr>\n",
        "  </tbody>\n",
        "</table>\n",
        "</div>"
       ],
       "metadata": {},
       "output_type": "pyout",
       "prompt_number": 37,
       "text": [
        "     b         c\n",
        "2  foo -0.249776\n",
        "3  bar  0.100520\n",
        "4  foo -0.593361"
       ]
      }
     ],
     "prompt_number": 37
    },
    {
     "cell_type": "code",
     "collapsed": false,
     "input": [
      "# 2->3 and a->c\n",
      "df.ix[2:3,'a':'c']"
     ],
     "language": "python",
     "metadata": {},
     "outputs": [
      {
       "html": [
        "<div style=\"max-height:1000px;max-width:1500px;overflow:auto;\">\n",
        "<table border=\"1\" class=\"dataframe\">\n",
        "  <thead>\n",
        "    <tr style=\"text-align: right;\">\n",
        "      <th></th>\n",
        "      <th>a</th>\n",
        "      <th>b</th>\n",
        "      <th>c</th>\n",
        "    </tr>\n",
        "  </thead>\n",
        "  <tbody>\n",
        "    <tr>\n",
        "      <th>2</th>\n",
        "      <td>-0.052329</td>\n",
        "      <td> foo</td>\n",
        "      <td>-0.249776</td>\n",
        "    </tr>\n",
        "    <tr>\n",
        "      <th>3</th>\n",
        "      <td> 1.400722</td>\n",
        "      <td> bar</td>\n",
        "      <td> 0.100520</td>\n",
        "    </tr>\n",
        "  </tbody>\n",
        "</table>\n",
        "</div>"
       ],
       "metadata": {},
       "output_type": "pyout",
       "prompt_number": 39,
       "text": [
        "          a    b         c\n",
        "2 -0.052329  foo -0.249776\n",
        "3  1.400722  bar  0.100520"
       ]
      }
     ],
     "prompt_number": 39
    },
    {
     "cell_type": "code",
     "collapsed": false,
     "input": [
      "# You can generate a date range index also\n",
      "# As shown below\n",
      "\n",
      "df = DataFrame({'a': np.random.randn(6),\n",
      "                'b': ['foo', 'bar'] * 3,\n",
      "                'c': np.random.randn(6)},\n",
      "               index=DateRange('1/1/2000', periods=6))\n",
      "df"
     ],
     "language": "python",
     "metadata": {},
     "outputs": [
      {
       "html": [
        "<div style=\"max-height:1000px;max-width:1500px;overflow:auto;\">\n",
        "<table border=\"1\" class=\"dataframe\">\n",
        "  <thead>\n",
        "    <tr style=\"text-align: right;\">\n",
        "      <th></th>\n",
        "      <th>a</th>\n",
        "      <th>b</th>\n",
        "      <th>c</th>\n",
        "    </tr>\n",
        "  </thead>\n",
        "  <tbody>\n",
        "    <tr>\n",
        "      <th>2000-01-03</th>\n",
        "      <td> 2.172895</td>\n",
        "      <td> foo</td>\n",
        "      <td> 0.525970</td>\n",
        "    </tr>\n",
        "    <tr>\n",
        "      <th>2000-01-04</th>\n",
        "      <td>-0.368999</td>\n",
        "      <td> bar</td>\n",
        "      <td>-2.067924</td>\n",
        "    </tr>\n",
        "    <tr>\n",
        "      <th>2000-01-05</th>\n",
        "      <td>-0.034347</td>\n",
        "      <td> foo</td>\n",
        "      <td>-0.648405</td>\n",
        "    </tr>\n",
        "    <tr>\n",
        "      <th>2000-01-06</th>\n",
        "      <td>-1.338750</td>\n",
        "      <td> bar</td>\n",
        "      <td> 0.156775</td>\n",
        "    </tr>\n",
        "    <tr>\n",
        "      <th>2000-01-07</th>\n",
        "      <td>-1.363070</td>\n",
        "      <td> foo</td>\n",
        "      <td> 0.858932</td>\n",
        "    </tr>\n",
        "    <tr>\n",
        "      <th>2000-01-10</th>\n",
        "      <td> 0.190829</td>\n",
        "      <td> bar</td>\n",
        "      <td>-1.174453</td>\n",
        "    </tr>\n",
        "  </tbody>\n",
        "</table>\n",
        "</div>"
       ],
       "metadata": {},
       "output_type": "pyout",
       "prompt_number": 44,
       "text": [
        "                   a    b         c\n",
        "2000-01-03  2.172895  foo  0.525970\n",
        "2000-01-04 -0.368999  bar -2.067924\n",
        "2000-01-05 -0.034347  foo -0.648405\n",
        "2000-01-06 -1.338750  bar  0.156775\n",
        "2000-01-07 -1.363070  foo  0.858932\n",
        "2000-01-10  0.190829  bar -1.174453"
       ]
      }
     ],
     "prompt_number": 44
    },
    {
     "cell_type": "code",
     "collapsed": false,
     "input": [
      "# Indexing by boolean\n",
      "df['c'] > 0"
     ],
     "language": "python",
     "metadata": {},
     "outputs": [
      {
       "metadata": {},
       "output_type": "pyout",
       "prompt_number": 40,
       "text": [
        "0    False\n",
        "1     True\n",
        "2    False\n",
        "3     True\n",
        "4    False\n",
        "5    False\n",
        "Name: c, dtype: bool"
       ]
      }
     ],
     "prompt_number": 40
    },
    {
     "cell_type": "code",
     "collapsed": false,
     "input": [
      "# Indexing by Boolean\n",
      "df.ix[df['c'] > 0]"
     ],
     "language": "python",
     "metadata": {},
     "outputs": [
      {
       "html": [
        "<div style=\"max-height:1000px;max-width:1500px;overflow:auto;\">\n",
        "<table border=\"1\" class=\"dataframe\">\n",
        "  <thead>\n",
        "    <tr style=\"text-align: right;\">\n",
        "      <th></th>\n",
        "      <th>a</th>\n",
        "      <th>b</th>\n",
        "      <th>c</th>\n",
        "      <th>d</th>\n",
        "    </tr>\n",
        "  </thead>\n",
        "  <tbody>\n",
        "    <tr>\n",
        "      <th>1</th>\n",
        "      <td>-1.159604</td>\n",
        "      <td> bar</td>\n",
        "      <td> 1.517171</td>\n",
        "      <td> 5</td>\n",
        "    </tr>\n",
        "    <tr>\n",
        "      <th>3</th>\n",
        "      <td> 1.400722</td>\n",
        "      <td> bar</td>\n",
        "      <td> 0.100520</td>\n",
        "      <td> 5</td>\n",
        "    </tr>\n",
        "  </tbody>\n",
        "</table>\n",
        "</div>"
       ],
       "metadata": {},
       "output_type": "pyout",
       "prompt_number": 41,
       "text": [
        "          a    b         c  d\n",
        "1 -1.159604  bar  1.517171  5\n",
        "3  1.400722  bar  0.100520  5"
       ]
      }
     ],
     "prompt_number": 41
    },
    {
     "cell_type": "code",
     "collapsed": false,
     "input": [
      "# Repeats foo bar in that order 3 times\n",
      "np.tile(['foo','bar'],3) \n"
     ],
     "language": "python",
     "metadata": {},
     "outputs": [
      {
       "metadata": {},
       "output_type": "pyout",
       "prompt_number": 27,
       "text": [
        "array(['foo', 'bar', 'foo', 'bar', 'foo', 'bar'], \n",
        "      dtype='|S3')"
       ]
      }
     ],
     "prompt_number": 27
    },
    {
     "cell_type": "code",
     "collapsed": false,
     "input": [
      "df = DataFrame({'a': np.random.randn(6),\n",
      "                'b': ['foo', 'bar'] * 3,\n",
      "                'c': np.random.randn(6)},\n",
      "               columns=['a', 'b', 'c', 'd'])\n",
      "df"
     ],
     "language": "python",
     "metadata": {},
     "outputs": [],
     "prompt_number": 14
    },
    {
     "cell_type": "markdown",
     "metadata": {},
     "source": [
      "Creation from nested dicts\n",
      "--------------------------\n",
      "\n",
      "These arise naturally in Python code"
     ]
    },
    {
     "cell_type": "code",
     "collapsed": false,
     "input": [
      "# Nested Dict\n",
      "# You may convert that into a table directly\n",
      "# Below is a nested dict\n",
      "# A dict maps into a Series\n",
      "# Hence, a dict of dicts also maps into a Series\n",
      "\n",
      "data = {}\n",
      "for col in ['foo', 'bar', 'baz']:\n",
      "    for row in ['a', 'b', 'c', 'd']:\n",
      "        data.setdefault(col, {})[row] = randn()\n",
      "data"
     ],
     "language": "python",
     "metadata": {},
     "outputs": [
      {
       "metadata": {},
       "output_type": "pyout",
       "prompt_number": 51,
       "text": [
        "{'bar': {'a': 0.4603044420131848,\n",
        "  'b': 0.6226760095473666,\n",
        "  'c': -1.5911244614501276,\n",
        "  'd': -1.9972008473956586},\n",
        " 'baz': {'a': -0.727602881138837,\n",
        "  'b': 1.0975781351131004,\n",
        "  'c': -1.0412929254922225,\n",
        "  'd': -0.8141206199858031},\n",
        " 'foo': {'a': 0.9918639974826713,\n",
        "  'b': 1.681933637633591,\n",
        "  'c': 0.967511044730184,\n",
        "  'd': -0.003662033669687562}}"
       ]
      }
     ],
     "prompt_number": 51
    },
    {
     "cell_type": "code",
     "collapsed": false,
     "input": [
      "# Directly convert the nested dict into a data frame\n",
      "\n",
      "DataFrame(data)"
     ],
     "language": "python",
     "metadata": {},
     "outputs": [
      {
       "html": [
        "<div style=\"max-height:1000px;max-width:1500px;overflow:auto;\">\n",
        "<table border=\"1\" class=\"dataframe\">\n",
        "  <thead>\n",
        "    <tr style=\"text-align: right;\">\n",
        "      <th></th>\n",
        "      <th>bar</th>\n",
        "      <th>baz</th>\n",
        "      <th>foo</th>\n",
        "    </tr>\n",
        "  </thead>\n",
        "  <tbody>\n",
        "    <tr>\n",
        "      <th>a</th>\n",
        "      <td> 0.460304</td>\n",
        "      <td>-0.727603</td>\n",
        "      <td> 0.991864</td>\n",
        "    </tr>\n",
        "    <tr>\n",
        "      <th>b</th>\n",
        "      <td> 0.622676</td>\n",
        "      <td> 1.097578</td>\n",
        "      <td> 1.681934</td>\n",
        "    </tr>\n",
        "    <tr>\n",
        "      <th>c</th>\n",
        "      <td>-1.591124</td>\n",
        "      <td>-1.041293</td>\n",
        "      <td> 0.967511</td>\n",
        "    </tr>\n",
        "    <tr>\n",
        "      <th>d</th>\n",
        "      <td>-1.997201</td>\n",
        "      <td>-0.814121</td>\n",
        "      <td>-0.003662</td>\n",
        "    </tr>\n",
        "  </tbody>\n",
        "</table>\n",
        "</div>"
       ],
       "metadata": {},
       "output_type": "pyout",
       "prompt_number": 52,
       "text": [
        "        bar       baz       foo\n",
        "a  0.460304 -0.727603  0.991864\n",
        "b  0.622676  1.097578  1.681934\n",
        "c -1.591124 -1.041293  0.967511\n",
        "d -1.997201 -0.814121 -0.003662"
       ]
      }
     ],
     "prompt_number": 52
    },
    {
     "cell_type": "code",
     "collapsed": false,
     "input": [
      "del data['foo']['c']"
     ],
     "language": "python",
     "metadata": {},
     "outputs": [],
     "prompt_number": 53
    },
    {
     "cell_type": "code",
     "collapsed": false,
     "input": [
      "# Now column foo, row c has become NaN\n",
      "DataFrame(data)"
     ],
     "language": "python",
     "metadata": {},
     "outputs": [
      {
       "html": [
        "<div style=\"max-height:1000px;max-width:1500px;overflow:auto;\">\n",
        "<table border=\"1\" class=\"dataframe\">\n",
        "  <thead>\n",
        "    <tr style=\"text-align: right;\">\n",
        "      <th></th>\n",
        "      <th>bar</th>\n",
        "      <th>baz</th>\n",
        "      <th>foo</th>\n",
        "    </tr>\n",
        "  </thead>\n",
        "  <tbody>\n",
        "    <tr>\n",
        "      <th>a</th>\n",
        "      <td> 0.460304</td>\n",
        "      <td>-0.727603</td>\n",
        "      <td> 0.991864</td>\n",
        "    </tr>\n",
        "    <tr>\n",
        "      <th>b</th>\n",
        "      <td> 0.622676</td>\n",
        "      <td> 1.097578</td>\n",
        "      <td> 1.681934</td>\n",
        "    </tr>\n",
        "    <tr>\n",
        "      <th>c</th>\n",
        "      <td>-1.591124</td>\n",
        "      <td>-1.041293</td>\n",
        "      <td>      NaN</td>\n",
        "    </tr>\n",
        "    <tr>\n",
        "      <th>d</th>\n",
        "      <td>-1.997201</td>\n",
        "      <td>-0.814121</td>\n",
        "      <td>-0.003662</td>\n",
        "    </tr>\n",
        "  </tbody>\n",
        "</table>\n",
        "</div>"
       ],
       "metadata": {},
       "output_type": "pyout",
       "prompt_number": 54,
       "text": [
        "        bar       baz       foo\n",
        "a  0.460304 -0.727603  0.991864\n",
        "b  0.622676  1.097578  1.681934\n",
        "c -1.591124 -1.041293       NaN\n",
        "d -1.997201 -0.814121 -0.003662"
       ]
      }
     ],
     "prompt_number": 54
    },
    {
     "cell_type": "markdown",
     "metadata": {},
     "source": [
      "Data alignment\n",
      "=============="
     ]
    },
    {
     "cell_type": "code",
     "collapsed": true,
     "input": [
      "# Read a CSV File\n",
      "\n",
      "close_px = read_csv('stock_data.csv', index_col=0, parse_dates=True)"
     ],
     "language": "python",
     "metadata": {},
     "outputs": [],
     "prompt_number": 55
    },
    {
     "cell_type": "code",
     "collapsed": false,
     "input": [
      "close_px"
     ],
     "language": "python",
     "metadata": {},
     "outputs": [
      {
       "html": [
        "<pre>\n",
        "&lt;class 'pandas.core.frame.DataFrame'&gt;\n",
        "DatetimeIndex: 1000 entries, 2007-10-29 00:00:00 to 2011-10-14 00:00:00\n",
        "Data columns (total 9 columns):\n",
        "AA      1000  non-null values\n",
        "AAPL    1000  non-null values\n",
        "GE      1000  non-null values\n",
        "IBM     1000  non-null values\n",
        "JNJ     1000  non-null values\n",
        "MSFT    1000  non-null values\n",
        "PEP     1000  non-null values\n",
        "SPX     1000  non-null values\n",
        "XOM     1000  non-null values\n",
        "dtypes: float64(9)\n",
        "</pre>"
       ],
       "metadata": {},
       "output_type": "pyout",
       "prompt_number": 56,
       "text": [
        "<class 'pandas.core.frame.DataFrame'>\n",
        "DatetimeIndex: 1000 entries, 2007-10-29 00:00:00 to 2011-10-14 00:00:00\n",
        "Data columns (total 9 columns):\n",
        "AA      1000  non-null values\n",
        "AAPL    1000  non-null values\n",
        "GE      1000  non-null values\n",
        "IBM     1000  non-null values\n",
        "JNJ     1000  non-null values\n",
        "MSFT    1000  non-null values\n",
        "PEP     1000  non-null values\n",
        "SPX     1000  non-null values\n",
        "XOM     1000  non-null values\n",
        "dtypes: float64(9)"
       ]
      }
     ],
     "prompt_number": 56
    },
    {
     "cell_type": "code",
     "collapsed": false,
     "input": [
      "s1 = close_px['AAPL'][-20:]\n",
      "s2 = close_px['AAPL'][-25:-10]\n",
      "side_by_side(s1, s2)"
     ],
     "language": "python",
     "metadata": {},
     "outputs": [
      {
       "output_type": "stream",
       "stream": "stdout",
       "text": [
        "2011-09-19    411.63          2011-09-12    379.94      \n",
        "2011-09-20    413.45          2011-09-13    384.62      \n",
        "2011-09-21    412.14          2011-09-14    389.30      \n",
        "2011-09-22    401.82          2011-09-15    392.96      \n",
        "2011-09-23    404.30          2011-09-16    400.50      \n",
        "2011-09-26    403.17          2011-09-19    411.63      \n",
        "2011-09-27    399.26          2011-09-20    413.45      \n",
        "2011-09-28    397.01          2011-09-21    412.14      \n",
        "2011-09-29    390.57          2011-09-22    401.82      \n",
        "2011-09-30    381.32          2011-09-23    404.30      \n",
        "2011-10-03    374.60          2011-09-26    403.17      \n",
        "2011-10-04    372.50          2011-09-27    399.26      \n",
        "2011-10-05    378.25          2011-09-28    397.01      \n",
        "2011-10-06    377.37          2011-09-29    390.57      \n",
        "2011-10-07    369.80          2011-09-30    381.32      \n",
        "2011-10-10    388.81          Name: AAPL, dtype: float64\n",
        "2011-10-11    400.29                                    \n",
        "2011-10-12    402.19                                    \n",
        "2011-10-13    408.43                                    \n",
        "2011-10-14    422.00                                    \n",
        "Name: AAPL, dtype: float64                              \n"
       ]
      }
     ],
     "prompt_number": 60
    },
    {
     "cell_type": "code",
     "collapsed": false,
     "input": [
      "# You can call system functions in IPython\n",
      "! head -2 stock_data.csv"
     ],
     "language": "python",
     "metadata": {},
     "outputs": [
      {
       "output_type": "stream",
       "stream": "stdout",
       "text": [
        ",AA,AAPL,GE,IBM,JNJ,MSFT,PEP,SPX,XOM\r\n",
        "2007-10-29 00:00:00,37.41,185.09,34.46,106.78,57.13,31.78,65.67,1540.98,85.51\r\n"
       ]
      }
     ],
     "prompt_number": 61
    },
    {
     "cell_type": "code",
     "collapsed": false,
     "input": [
      "s1 + s2"
     ],
     "language": "python",
     "metadata": {},
     "outputs": [
      {
       "metadata": {},
       "output_type": "pyout",
       "prompt_number": 62,
       "text": [
        "2011-09-12       NaN\n",
        "2011-09-13       NaN\n",
        "2011-09-14       NaN\n",
        "2011-09-15       NaN\n",
        "2011-09-16       NaN\n",
        "2011-09-19    823.26\n",
        "2011-09-20    826.90\n",
        "2011-09-21    824.28\n",
        "2011-09-22    803.64\n",
        "2011-09-23    808.60\n",
        "2011-09-26    806.34\n",
        "2011-09-27    798.52\n",
        "2011-09-28    794.02\n",
        "2011-09-29    781.14\n",
        "2011-09-30    762.64\n",
        "2011-10-03       NaN\n",
        "2011-10-04       NaN\n",
        "2011-10-05       NaN\n",
        "2011-10-06       NaN\n",
        "2011-10-07       NaN\n",
        "2011-10-10       NaN\n",
        "2011-10-11       NaN\n",
        "2011-10-12       NaN\n",
        "2011-10-13       NaN\n",
        "2011-10-14       NaN\n",
        "Name: AAPL, dtype: float64"
       ]
      }
     ],
     "prompt_number": 62
    },
    {
     "cell_type": "code",
     "collapsed": false,
     "input": [
      "df = close_px.ix[-10:, :3]\n",
      "df"
     ],
     "language": "python",
     "metadata": {},
     "outputs": [
      {
       "html": [
        "<div style=\"max-height:1000px;max-width:1500px;overflow:auto;\">\n",
        "<table border=\"1\" class=\"dataframe\">\n",
        "  <thead>\n",
        "    <tr style=\"text-align: right;\">\n",
        "      <th></th>\n",
        "      <th>AA</th>\n",
        "      <th>AAPL</th>\n",
        "      <th>GE</th>\n",
        "    </tr>\n",
        "  </thead>\n",
        "  <tbody>\n",
        "    <tr>\n",
        "      <th>2011-10-03</th>\n",
        "      <td>  8.90</td>\n",
        "      <td> 374.60</td>\n",
        "      <td> 14.69</td>\n",
        "    </tr>\n",
        "    <tr>\n",
        "      <th>2011-10-04</th>\n",
        "      <td>  9.12</td>\n",
        "      <td> 372.50</td>\n",
        "      <td> 14.86</td>\n",
        "    </tr>\n",
        "    <tr>\n",
        "      <th>2011-10-05</th>\n",
        "      <td>  9.37</td>\n",
        "      <td> 378.25</td>\n",
        "      <td> 15.27</td>\n",
        "    </tr>\n",
        "    <tr>\n",
        "      <th>2011-10-06</th>\n",
        "      <td>  9.88</td>\n",
        "      <td> 377.37</td>\n",
        "      <td> 15.53</td>\n",
        "    </tr>\n",
        "    <tr>\n",
        "      <th>2011-10-07</th>\n",
        "      <td>  9.71</td>\n",
        "      <td> 369.80</td>\n",
        "      <td> 15.50</td>\n",
        "    </tr>\n",
        "    <tr>\n",
        "      <th>2011-10-10</th>\n",
        "      <td> 10.09</td>\n",
        "      <td> 388.81</td>\n",
        "      <td> 16.14</td>\n",
        "    </tr>\n",
        "    <tr>\n",
        "      <th>2011-10-11</th>\n",
        "      <td> 10.30</td>\n",
        "      <td> 400.29</td>\n",
        "      <td> 16.14</td>\n",
        "    </tr>\n",
        "    <tr>\n",
        "      <th>2011-10-12</th>\n",
        "      <td> 10.05</td>\n",
        "      <td> 402.19</td>\n",
        "      <td> 16.40</td>\n",
        "    </tr>\n",
        "    <tr>\n",
        "      <th>2011-10-13</th>\n",
        "      <td> 10.10</td>\n",
        "      <td> 408.43</td>\n",
        "      <td> 16.22</td>\n",
        "    </tr>\n",
        "    <tr>\n",
        "      <th>2011-10-14</th>\n",
        "      <td> 10.26</td>\n",
        "      <td> 422.00</td>\n",
        "      <td> 16.60</td>\n",
        "    </tr>\n",
        "  </tbody>\n",
        "</table>\n",
        "</div>"
       ],
       "metadata": {},
       "output_type": "pyout",
       "prompt_number": 63,
       "text": [
        "               AA    AAPL     GE\n",
        "2011-10-03   8.90  374.60  14.69\n",
        "2011-10-04   9.12  372.50  14.86\n",
        "2011-10-05   9.37  378.25  15.27\n",
        "2011-10-06   9.88  377.37  15.53\n",
        "2011-10-07   9.71  369.80  15.50\n",
        "2011-10-10  10.09  388.81  16.14\n",
        "2011-10-11  10.30  400.29  16.14\n",
        "2011-10-12  10.05  402.19  16.40\n",
        "2011-10-13  10.10  408.43  16.22\n",
        "2011-10-14  10.26  422.00  16.60"
       ]
      }
     ],
     "prompt_number": 63
    },
    {
     "cell_type": "code",
     "collapsed": false,
     "input": [
      "# Avoids the NA Issue\n",
      "# Fills missing values (NAs) with 0s\n",
      "\n",
      "s1.add(s2, fill_value = 0)"
     ],
     "language": "python",
     "metadata": {},
     "outputs": [
      {
       "metadata": {},
       "output_type": "pyout",
       "prompt_number": 64,
       "text": [
        "2011-09-12    379.94\n",
        "2011-09-13    384.62\n",
        "2011-09-14    389.30\n",
        "2011-09-15    392.96\n",
        "2011-09-16    400.50\n",
        "2011-09-19    823.26\n",
        "2011-09-20    826.90\n",
        "2011-09-21    824.28\n",
        "2011-09-22    803.64\n",
        "2011-09-23    808.60\n",
        "2011-09-26    806.34\n",
        "2011-09-27    798.52\n",
        "2011-09-28    794.02\n",
        "2011-09-29    781.14\n",
        "2011-09-30    762.64\n",
        "2011-10-03    374.60\n",
        "2011-10-04    372.50\n",
        "2011-10-05    378.25\n",
        "2011-10-06    377.37\n",
        "2011-10-07    369.80\n",
        "2011-10-10    388.81\n",
        "2011-10-11    400.29\n",
        "2011-10-12    402.19\n",
        "2011-10-13    408.43\n",
        "2011-10-14    422.00\n",
        "Name: AAPL, dtype: float64"
       ]
      }
     ],
     "prompt_number": 64
    },
    {
     "cell_type": "code",
     "collapsed": false,
     "input": [
      "# Conforms s1 to the s2 index\n",
      "\n",
      "side_by_side(s1.reindex(s2.index), s2)"
     ],
     "language": "python",
     "metadata": {},
     "outputs": [
      {
       "output_type": "stream",
       "stream": "stdout",
       "text": [
        "2011-09-12       NaN          2011-09-12    379.94      \n",
        "2011-09-13       NaN          2011-09-13    384.62      \n",
        "2011-09-14       NaN          2011-09-14    389.30      \n",
        "2011-09-15       NaN          2011-09-15    392.96      \n",
        "2011-09-16       NaN          2011-09-16    400.50      \n",
        "2011-09-19    411.63          2011-09-19    411.63      \n",
        "2011-09-20    413.45          2011-09-20    413.45      \n",
        "2011-09-21    412.14          2011-09-21    412.14      \n",
        "2011-09-22    401.82          2011-09-22    401.82      \n",
        "2011-09-23    404.30          2011-09-23    404.30      \n",
        "2011-09-26    403.17          2011-09-26    403.17      \n",
        "2011-09-27    399.26          2011-09-27    399.26      \n",
        "2011-09-28    397.01          2011-09-28    397.01      \n",
        "2011-09-29    390.57          2011-09-29    390.57      \n",
        "2011-09-30    381.32          2011-09-30    381.32      \n",
        "Name: AAPL, dtype: float64    Name: AAPL, dtype: float64\n"
       ]
      }
     ],
     "prompt_number": 65
    },
    {
     "cell_type": "code",
     "collapsed": false,
     "input": [
      "# You can also use the ix method to conform indices\n",
      "# (Same as above)\n",
      "\n",
      "side_by_side(s1.ix[s2.index], s2)"
     ],
     "language": "python",
     "metadata": {},
     "outputs": [
      {
       "output_type": "stream",
       "stream": "stdout",
       "text": [
        "2011-09-12       NaN          2011-09-12    379.94      \n",
        "2011-09-13       NaN          2011-09-13    384.62      \n",
        "2011-09-14       NaN          2011-09-14    389.30      \n",
        "2011-09-15       NaN          2011-09-15    392.96      \n",
        "2011-09-16       NaN          2011-09-16    400.50      \n",
        "2011-09-19    411.63          2011-09-19    411.63      \n",
        "2011-09-20    413.45          2011-09-20    413.45      \n",
        "2011-09-21    412.14          2011-09-21    412.14      \n",
        "2011-09-22    401.82          2011-09-22    401.82      \n",
        "2011-09-23    404.30          2011-09-23    404.30      \n",
        "2011-09-26    403.17          2011-09-26    403.17      \n",
        "2011-09-27    399.26          2011-09-27    399.26      \n",
        "2011-09-28    397.01          2011-09-28    397.01      \n",
        "2011-09-29    390.57          2011-09-29    390.57      \n",
        "2011-09-30    381.32          2011-09-30    381.32      \n",
        "Name: AAPL, dtype: float64    Name: AAPL, dtype: float64\n"
       ]
      }
     ],
     "prompt_number": 66
    },
    {
     "cell_type": "code",
     "collapsed": false,
     "input": [
      "# Intersection\n",
      "b, c  = s1.align(s2, join='inner')\n",
      "side_by_side(b, c)"
     ],
     "language": "python",
     "metadata": {},
     "outputs": [
      {
       "output_type": "stream",
       "stream": "stdout",
       "text": [
        "2011-09-19    411.63          2011-09-19    411.63      \n",
        "2011-09-20    413.45          2011-09-20    413.45      \n",
        "2011-09-21    412.14          2011-09-21    412.14      \n",
        "2011-09-22    401.82          2011-09-22    401.82      \n",
        "2011-09-23    404.30          2011-09-23    404.30      \n",
        "2011-09-26    403.17          2011-09-26    403.17      \n",
        "2011-09-27    399.26          2011-09-27    399.26      \n",
        "2011-09-28    397.01          2011-09-28    397.01      \n",
        "2011-09-29    390.57          2011-09-29    390.57      \n",
        "2011-09-30    381.32          2011-09-30    381.32      \n",
        "Name: AAPL, dtype: float64    Name: AAPL, dtype: float64\n"
       ]
      }
     ],
     "prompt_number": 67
    },
    {
     "cell_type": "code",
     "collapsed": false,
     "input": [
      "# Outer Join\n",
      "b, c  = s1.align(s2, join='outer')\n",
      "side_by_side(b, c)"
     ],
     "language": "python",
     "metadata": {},
     "outputs": [
      {
       "output_type": "stream",
       "stream": "stdout",
       "text": [
        "2011-09-12       NaN          2011-09-12    379.94      \n",
        "2011-09-13       NaN          2011-09-13    384.62      \n",
        "2011-09-14       NaN          2011-09-14    389.30      \n",
        "2011-09-15       NaN          2011-09-15    392.96      \n",
        "2011-09-16       NaN          2011-09-16    400.50      \n",
        "2011-09-19    411.63          2011-09-19    411.63      \n",
        "2011-09-20    413.45          2011-09-20    413.45      \n",
        "2011-09-21    412.14          2011-09-21    412.14      \n",
        "2011-09-22    401.82          2011-09-22    401.82      \n",
        "2011-09-23    404.30          2011-09-23    404.30      \n",
        "2011-09-26    403.17          2011-09-26    403.17      \n",
        "2011-09-27    399.26          2011-09-27    399.26      \n",
        "2011-09-28    397.01          2011-09-28    397.01      \n",
        "2011-09-29    390.57          2011-09-29    390.57      \n",
        "2011-09-30    381.32          2011-09-30    381.32      \n",
        "2011-10-03    374.60          2011-10-03       NaN      \n",
        "2011-10-04    372.50          2011-10-04       NaN      \n",
        "2011-10-05    378.25          2011-10-05       NaN      \n",
        "2011-10-06    377.37          2011-10-06       NaN      \n",
        "2011-10-07    369.80          2011-10-07       NaN      \n",
        "2011-10-10    388.81          2011-10-10       NaN      \n",
        "2011-10-11    400.29          2011-10-11       NaN      \n",
        "2011-10-12    402.19          2011-10-12       NaN      \n",
        "2011-10-13    408.43          2011-10-13       NaN      \n",
        "2011-10-14    422.00          2011-10-14       NaN      \n",
        "Name: AAPL, dtype: float64    Name: AAPL, dtype: float64\n"
       ]
      }
     ],
     "prompt_number": 68
    },
    {
     "cell_type": "code",
     "collapsed": false,
     "input": [
      "# Right Join\n",
      "b, c  = s1.align(s2, join='right')\n",
      "side_by_side(b, c)"
     ],
     "language": "python",
     "metadata": {},
     "outputs": [
      {
       "output_type": "stream",
       "stream": "stdout",
       "text": [
        "2011-09-12       NaN          2011-09-12    379.94      \n",
        "2011-09-13       NaN          2011-09-13    384.62      \n",
        "2011-09-14       NaN          2011-09-14    389.30      \n",
        "2011-09-15       NaN          2011-09-15    392.96      \n",
        "2011-09-16       NaN          2011-09-16    400.50      \n",
        "2011-09-19    411.63          2011-09-19    411.63      \n",
        "2011-09-20    413.45          2011-09-20    413.45      \n",
        "2011-09-21    412.14          2011-09-21    412.14      \n",
        "2011-09-22    401.82          2011-09-22    401.82      \n",
        "2011-09-23    404.30          2011-09-23    404.30      \n",
        "2011-09-26    403.17          2011-09-26    403.17      \n",
        "2011-09-27    399.26          2011-09-27    399.26      \n",
        "2011-09-28    397.01          2011-09-28    397.01      \n",
        "2011-09-29    390.57          2011-09-29    390.57      \n",
        "2011-09-30    381.32          2011-09-30    381.32      \n",
        "Name: AAPL, dtype: float64    Name: AAPL, dtype: float64\n"
       ]
      }
     ],
     "prompt_number": 69
    },
    {
     "cell_type": "code",
     "collapsed": false,
     "input": [
      "df = close_px.ix[-10:, ['AAPL', 'IBM', 'MSFT']]\n",
      "df"
     ],
     "language": "python",
     "metadata": {},
     "outputs": [
      {
       "html": [
        "<div style=\"max-height:1000px;max-width:1500px;overflow:auto;\">\n",
        "<table border=\"1\" class=\"dataframe\">\n",
        "  <thead>\n",
        "    <tr style=\"text-align: right;\">\n",
        "      <th></th>\n",
        "      <th>AAPL</th>\n",
        "      <th>IBM</th>\n",
        "      <th>MSFT</th>\n",
        "    </tr>\n",
        "  </thead>\n",
        "  <tbody>\n",
        "    <tr>\n",
        "      <th>2011-10-03</th>\n",
        "      <td> 374.60</td>\n",
        "      <td> 173.29</td>\n",
        "      <td> 24.53</td>\n",
        "    </tr>\n",
        "    <tr>\n",
        "      <th>2011-10-04</th>\n",
        "      <td> 372.50</td>\n",
        "      <td> 174.74</td>\n",
        "      <td> 25.34</td>\n",
        "    </tr>\n",
        "    <tr>\n",
        "      <th>2011-10-05</th>\n",
        "      <td> 378.25</td>\n",
        "      <td> 176.85</td>\n",
        "      <td> 25.89</td>\n",
        "    </tr>\n",
        "    <tr>\n",
        "      <th>2011-10-06</th>\n",
        "      <td> 377.37</td>\n",
        "      <td> 181.69</td>\n",
        "      <td> 26.34</td>\n",
        "    </tr>\n",
        "    <tr>\n",
        "      <th>2011-10-07</th>\n",
        "      <td> 369.80</td>\n",
        "      <td> 182.39</td>\n",
        "      <td> 26.25</td>\n",
        "    </tr>\n",
        "    <tr>\n",
        "      <th>2011-10-10</th>\n",
        "      <td> 388.81</td>\n",
        "      <td> 186.62</td>\n",
        "      <td> 26.94</td>\n",
        "    </tr>\n",
        "    <tr>\n",
        "      <th>2011-10-11</th>\n",
        "      <td> 400.29</td>\n",
        "      <td> 185.00</td>\n",
        "      <td> 27.00</td>\n",
        "    </tr>\n",
        "    <tr>\n",
        "      <th>2011-10-12</th>\n",
        "      <td> 402.19</td>\n",
        "      <td> 186.12</td>\n",
        "      <td> 26.96</td>\n",
        "    </tr>\n",
        "    <tr>\n",
        "      <th>2011-10-13</th>\n",
        "      <td> 408.43</td>\n",
        "      <td> 186.82</td>\n",
        "      <td> 27.18</td>\n",
        "    </tr>\n",
        "    <tr>\n",
        "      <th>2011-10-14</th>\n",
        "      <td> 422.00</td>\n",
        "      <td> 190.53</td>\n",
        "      <td> 27.27</td>\n",
        "    </tr>\n",
        "  </tbody>\n",
        "</table>\n",
        "</div>"
       ],
       "metadata": {},
       "output_type": "pyout",
       "prompt_number": 70,
       "text": [
        "              AAPL     IBM   MSFT\n",
        "2011-10-03  374.60  173.29  24.53\n",
        "2011-10-04  372.50  174.74  25.34\n",
        "2011-10-05  378.25  176.85  25.89\n",
        "2011-10-06  377.37  181.69  26.34\n",
        "2011-10-07  369.80  182.39  26.25\n",
        "2011-10-10  388.81  186.62  26.94\n",
        "2011-10-11  400.29  185.00  27.00\n",
        "2011-10-12  402.19  186.12  26.96\n",
        "2011-10-13  408.43  186.82  27.18\n",
        "2011-10-14  422.00  190.53  27.27"
       ]
      }
     ],
     "prompt_number": 70
    },
    {
     "cell_type": "code",
     "collapsed": false,
     "input": [
      "df2 = df.ix[::2, ['IBM', 'MSFT']]\n",
      "side_by_side(df, df2)"
     ],
     "language": "python",
     "metadata": {},
     "outputs": [
      {
       "output_type": "stream",
       "stream": "stdout",
       "text": [
        "              AAPL     IBM   MSFT                   IBM   MSFT\n",
        "2011-10-03  374.60  173.29  24.53    2011-10-03  173.29  24.53\n",
        "2011-10-04  372.50  174.74  25.34    2011-10-05  176.85  25.89\n",
        "2011-10-05  378.25  176.85  25.89    2011-10-07  182.39  26.25\n",
        "2011-10-06  377.37  181.69  26.34    2011-10-11  185.00  27.00\n",
        "2011-10-07  369.80  182.39  26.25    2011-10-13  186.82  27.18\n",
        "2011-10-10  388.81  186.62  26.94                             \n",
        "2011-10-11  400.29  185.00  27.00                             \n",
        "2011-10-12  402.19  186.12  26.96                             \n",
        "2011-10-13  408.43  186.82  27.18                             \n",
        "2011-10-14  422.00  190.53  27.27                             \n"
       ]
      }
     ],
     "prompt_number": 71
    },
    {
     "cell_type": "code",
     "collapsed": false,
     "input": [
      "df + df2"
     ],
     "language": "python",
     "metadata": {},
     "outputs": [
      {
       "html": [
        "<div style=\"max-height:1000px;max-width:1500px;overflow:auto;\">\n",
        "<table border=\"1\" class=\"dataframe\">\n",
        "  <thead>\n",
        "    <tr style=\"text-align: right;\">\n",
        "      <th></th>\n",
        "      <th>AAPL</th>\n",
        "      <th>IBM</th>\n",
        "      <th>MSFT</th>\n",
        "    </tr>\n",
        "  </thead>\n",
        "  <tbody>\n",
        "    <tr>\n",
        "      <th>2011-10-03</th>\n",
        "      <td>NaN</td>\n",
        "      <td> 346.58</td>\n",
        "      <td> 49.06</td>\n",
        "    </tr>\n",
        "    <tr>\n",
        "      <th>2011-10-04</th>\n",
        "      <td>NaN</td>\n",
        "      <td>    NaN</td>\n",
        "      <td>   NaN</td>\n",
        "    </tr>\n",
        "    <tr>\n",
        "      <th>2011-10-05</th>\n",
        "      <td>NaN</td>\n",
        "      <td> 353.70</td>\n",
        "      <td> 51.78</td>\n",
        "    </tr>\n",
        "    <tr>\n",
        "      <th>2011-10-06</th>\n",
        "      <td>NaN</td>\n",
        "      <td>    NaN</td>\n",
        "      <td>   NaN</td>\n",
        "    </tr>\n",
        "    <tr>\n",
        "      <th>2011-10-07</th>\n",
        "      <td>NaN</td>\n",
        "      <td> 364.78</td>\n",
        "      <td> 52.50</td>\n",
        "    </tr>\n",
        "    <tr>\n",
        "      <th>2011-10-10</th>\n",
        "      <td>NaN</td>\n",
        "      <td>    NaN</td>\n",
        "      <td>   NaN</td>\n",
        "    </tr>\n",
        "    <tr>\n",
        "      <th>2011-10-11</th>\n",
        "      <td>NaN</td>\n",
        "      <td> 370.00</td>\n",
        "      <td> 54.00</td>\n",
        "    </tr>\n",
        "    <tr>\n",
        "      <th>2011-10-12</th>\n",
        "      <td>NaN</td>\n",
        "      <td>    NaN</td>\n",
        "      <td>   NaN</td>\n",
        "    </tr>\n",
        "    <tr>\n",
        "      <th>2011-10-13</th>\n",
        "      <td>NaN</td>\n",
        "      <td> 373.64</td>\n",
        "      <td> 54.36</td>\n",
        "    </tr>\n",
        "    <tr>\n",
        "      <th>2011-10-14</th>\n",
        "      <td>NaN</td>\n",
        "      <td>    NaN</td>\n",
        "      <td>   NaN</td>\n",
        "    </tr>\n",
        "  </tbody>\n",
        "</table>\n",
        "</div>"
       ],
       "metadata": {},
       "output_type": "pyout",
       "prompt_number": 72,
       "text": [
        "            AAPL     IBM   MSFT\n",
        "2011-10-03   NaN  346.58  49.06\n",
        "2011-10-04   NaN     NaN    NaN\n",
        "2011-10-05   NaN  353.70  51.78\n",
        "2011-10-06   NaN     NaN    NaN\n",
        "2011-10-07   NaN  364.78  52.50\n",
        "2011-10-10   NaN     NaN    NaN\n",
        "2011-10-11   NaN  370.00  54.00\n",
        "2011-10-12   NaN     NaN    NaN\n",
        "2011-10-13   NaN  373.64  54.36\n",
        "2011-10-14   NaN     NaN    NaN"
       ]
      }
     ],
     "prompt_number": 72
    },
    {
     "cell_type": "code",
     "collapsed": false,
     "input": [
      "# Inner Join\n",
      "b, c = df.align(df2, join='inner')\n",
      "side_by_side(b, c) "
     ],
     "language": "python",
     "metadata": {},
     "outputs": [
      {
       "output_type": "stream",
       "stream": "stdout",
       "text": [
        "               IBM   MSFT                   IBM   MSFT\n",
        "2011-10-03  173.29  24.53    2011-10-03  173.29  24.53\n",
        "2011-10-05  176.85  25.89    2011-10-05  176.85  25.89\n",
        "2011-10-07  182.39  26.25    2011-10-07  182.39  26.25\n",
        "2011-10-11  185.00  27.00    2011-10-11  185.00  27.00\n",
        "2011-10-13  186.82  27.18    2011-10-13  186.82  27.18\n"
       ]
      }
     ],
     "prompt_number": 73
    },
    {
     "cell_type": "code",
     "collapsed": false,
     "input": [
      "# You can open the help function\n",
      "df.mean?"
     ],
     "language": "python",
     "metadata": {},
     "outputs": [],
     "prompt_number": 74
    },
    {
     "cell_type": "markdown",
     "metadata": {},
     "source": [
      "Transposing: no copy if all columns are same type\n",
      "-------------------------------------------------"
     ]
    },
    {
     "cell_type": "code",
     "collapsed": false,
     "input": [
      "df[:5].T"
     ],
     "language": "python",
     "metadata": {},
     "outputs": [
      {
       "html": [
        "<div style=\"max-height:1000px;max-width:1500px;overflow:auto;\">\n",
        "<table border=\"1\" class=\"dataframe\">\n",
        "  <thead>\n",
        "    <tr style=\"text-align: right;\">\n",
        "      <th></th>\n",
        "      <th>2011-10-03 00:00:00</th>\n",
        "      <th>2011-10-04 00:00:00</th>\n",
        "      <th>2011-10-05 00:00:00</th>\n",
        "      <th>2011-10-06 00:00:00</th>\n",
        "      <th>2011-10-07 00:00:00</th>\n",
        "    </tr>\n",
        "  </thead>\n",
        "  <tbody>\n",
        "    <tr>\n",
        "      <th>AAPL</th>\n",
        "      <td> 374.60</td>\n",
        "      <td> 372.50</td>\n",
        "      <td> 378.25</td>\n",
        "      <td> 377.37</td>\n",
        "      <td> 369.80</td>\n",
        "    </tr>\n",
        "    <tr>\n",
        "      <th>IBM</th>\n",
        "      <td> 173.29</td>\n",
        "      <td> 174.74</td>\n",
        "      <td> 176.85</td>\n",
        "      <td> 181.69</td>\n",
        "      <td> 182.39</td>\n",
        "    </tr>\n",
        "    <tr>\n",
        "      <th>MSFT</th>\n",
        "      <td>  24.53</td>\n",
        "      <td>  25.34</td>\n",
        "      <td>  25.89</td>\n",
        "      <td>  26.34</td>\n",
        "      <td>  26.25</td>\n",
        "    </tr>\n",
        "  </tbody>\n",
        "</table>\n",
        "</div>"
       ],
       "metadata": {},
       "output_type": "pyout",
       "prompt_number": 75,
       "text": [
        "      2011-10-03  2011-10-04  2011-10-05  2011-10-06  2011-10-07\n",
        "AAPL      374.60      372.50      378.25      377.37      369.80\n",
        "IBM       173.29      174.74      176.85      181.69      182.39\n",
        "MSFT       24.53       25.34       25.89       26.34       26.25"
       ]
      }
     ],
     "prompt_number": 75
    },
    {
     "cell_type": "markdown",
     "metadata": {},
     "source": [
      "Columns can be any type\n",
      "-----------------------"
     ]
    },
    {
     "cell_type": "code",
     "collapsed": false,
     "input": [
      "n = 10\n",
      "foo = DataFrame(index=range(n))\n",
      "foo['floats'] = np.random.randn(n)\n",
      "foo['ints'] = np.arange(n)\n",
      "foo['strings'] = ['foo', 'bar'] * (n / 2)\n",
      "foo['bools'] = foo['floats'] > 0\n",
      "foo['objects'] = DateRange('1/1/2000', periods=n)\n",
      "foo"
     ],
     "language": "python",
     "metadata": {},
     "outputs": [
      {
       "html": [
        "<div style=\"max-height:1000px;max-width:1500px;overflow:auto;\">\n",
        "<table border=\"1\" class=\"dataframe\">\n",
        "  <thead>\n",
        "    <tr style=\"text-align: right;\">\n",
        "      <th></th>\n",
        "      <th>floats</th>\n",
        "      <th>ints</th>\n",
        "      <th>strings</th>\n",
        "      <th>bools</th>\n",
        "      <th>objects</th>\n",
        "    </tr>\n",
        "  </thead>\n",
        "  <tbody>\n",
        "    <tr>\n",
        "      <th>0</th>\n",
        "      <td>-0.588554</td>\n",
        "      <td> 0</td>\n",
        "      <td> foo</td>\n",
        "      <td> False</td>\n",
        "      <td>2000-01-03 00:00:00</td>\n",
        "    </tr>\n",
        "    <tr>\n",
        "      <th>1</th>\n",
        "      <td>-0.537086</td>\n",
        "      <td> 1</td>\n",
        "      <td> bar</td>\n",
        "      <td> False</td>\n",
        "      <td>2000-01-04 00:00:00</td>\n",
        "    </tr>\n",
        "    <tr>\n",
        "      <th>2</th>\n",
        "      <td>-0.212714</td>\n",
        "      <td> 2</td>\n",
        "      <td> foo</td>\n",
        "      <td> False</td>\n",
        "      <td>2000-01-05 00:00:00</td>\n",
        "    </tr>\n",
        "    <tr>\n",
        "      <th>3</th>\n",
        "      <td>-2.105458</td>\n",
        "      <td> 3</td>\n",
        "      <td> bar</td>\n",
        "      <td> False</td>\n",
        "      <td>2000-01-06 00:00:00</td>\n",
        "    </tr>\n",
        "    <tr>\n",
        "      <th>4</th>\n",
        "      <td> 1.262222</td>\n",
        "      <td> 4</td>\n",
        "      <td> foo</td>\n",
        "      <td>  True</td>\n",
        "      <td>2000-01-07 00:00:00</td>\n",
        "    </tr>\n",
        "    <tr>\n",
        "      <th>5</th>\n",
        "      <td>-0.622120</td>\n",
        "      <td> 5</td>\n",
        "      <td> bar</td>\n",
        "      <td> False</td>\n",
        "      <td>2000-01-10 00:00:00</td>\n",
        "    </tr>\n",
        "    <tr>\n",
        "      <th>6</th>\n",
        "      <td> 0.399569</td>\n",
        "      <td> 6</td>\n",
        "      <td> foo</td>\n",
        "      <td>  True</td>\n",
        "      <td>2000-01-11 00:00:00</td>\n",
        "    </tr>\n",
        "    <tr>\n",
        "      <th>7</th>\n",
        "      <td>-1.135127</td>\n",
        "      <td> 7</td>\n",
        "      <td> bar</td>\n",
        "      <td> False</td>\n",
        "      <td>2000-01-12 00:00:00</td>\n",
        "    </tr>\n",
        "    <tr>\n",
        "      <th>8</th>\n",
        "      <td> 0.403818</td>\n",
        "      <td> 8</td>\n",
        "      <td> foo</td>\n",
        "      <td>  True</td>\n",
        "      <td>2000-01-13 00:00:00</td>\n",
        "    </tr>\n",
        "    <tr>\n",
        "      <th>9</th>\n",
        "      <td>-0.613612</td>\n",
        "      <td> 9</td>\n",
        "      <td> bar</td>\n",
        "      <td> False</td>\n",
        "      <td>2000-01-14 00:00:00</td>\n",
        "    </tr>\n",
        "  </tbody>\n",
        "</table>\n",
        "</div>"
       ],
       "metadata": {},
       "output_type": "pyout",
       "prompt_number": 76,
       "text": [
        "     floats  ints strings  bools             objects\n",
        "0 -0.588554     0     foo  False 2000-01-03 00:00:00\n",
        "1 -0.537086     1     bar  False 2000-01-04 00:00:00\n",
        "2 -0.212714     2     foo  False 2000-01-05 00:00:00\n",
        "3 -2.105458     3     bar  False 2000-01-06 00:00:00\n",
        "4  1.262222     4     foo   True 2000-01-07 00:00:00\n",
        "5 -0.622120     5     bar  False 2000-01-10 00:00:00\n",
        "6  0.399569     6     foo   True 2000-01-11 00:00:00\n",
        "7 -1.135127     7     bar  False 2000-01-12 00:00:00\n",
        "8  0.403818     8     foo   True 2000-01-13 00:00:00\n",
        "9 -0.613612     9     bar  False 2000-01-14 00:00:00"
       ]
      }
     ],
     "prompt_number": 76
    },
    {
     "cell_type": "code",
     "collapsed": false,
     "input": [
      "foo.dtypes"
     ],
     "language": "python",
     "metadata": {},
     "outputs": [
      {
       "metadata": {},
       "output_type": "pyout",
       "prompt_number": 77,
       "text": [
        "floats            float64\n",
        "ints                int64\n",
        "strings            object\n",
        "bools                bool\n",
        "objects    datetime64[ns]\n",
        "dtype: object"
       ]
      }
     ],
     "prompt_number": 77
    },
    {
     "cell_type": "markdown",
     "metadata": {},
     "source": [
      "N.B. transposing is not roundtrippable in this case (column-oriented data structure)"
     ]
    },
    {
     "cell_type": "code",
     "collapsed": false,
     "input": [
      "foo.T.T"
     ],
     "language": "python",
     "metadata": {},
     "outputs": [
      {
       "html": [
        "<div style=\"max-height:1000px;max-width:1500px;overflow:auto;\">\n",
        "<table border=\"1\" class=\"dataframe\">\n",
        "  <thead>\n",
        "    <tr style=\"text-align: right;\">\n",
        "      <th></th>\n",
        "      <th>floats</th>\n",
        "      <th>ints</th>\n",
        "      <th>strings</th>\n",
        "      <th>bools</th>\n",
        "      <th>objects</th>\n",
        "    </tr>\n",
        "  </thead>\n",
        "  <tbody>\n",
        "    <tr>\n",
        "      <th>0</th>\n",
        "      <td>-0.5885538</td>\n",
        "      <td> 0</td>\n",
        "      <td> foo</td>\n",
        "      <td> False</td>\n",
        "      <td> 2000-01-03 00:00:00</td>\n",
        "    </tr>\n",
        "    <tr>\n",
        "      <th>1</th>\n",
        "      <td> -0.537086</td>\n",
        "      <td> 1</td>\n",
        "      <td> bar</td>\n",
        "      <td> False</td>\n",
        "      <td> 2000-01-04 00:00:00</td>\n",
        "    </tr>\n",
        "    <tr>\n",
        "      <th>2</th>\n",
        "      <td>-0.2127143</td>\n",
        "      <td> 2</td>\n",
        "      <td> foo</td>\n",
        "      <td> False</td>\n",
        "      <td> 2000-01-05 00:00:00</td>\n",
        "    </tr>\n",
        "    <tr>\n",
        "      <th>3</th>\n",
        "      <td> -2.105458</td>\n",
        "      <td> 3</td>\n",
        "      <td> bar</td>\n",
        "      <td> False</td>\n",
        "      <td> 2000-01-06 00:00:00</td>\n",
        "    </tr>\n",
        "    <tr>\n",
        "      <th>4</th>\n",
        "      <td>  1.262222</td>\n",
        "      <td> 4</td>\n",
        "      <td> foo</td>\n",
        "      <td>  True</td>\n",
        "      <td> 2000-01-07 00:00:00</td>\n",
        "    </tr>\n",
        "    <tr>\n",
        "      <th>5</th>\n",
        "      <td>  -0.62212</td>\n",
        "      <td> 5</td>\n",
        "      <td> bar</td>\n",
        "      <td> False</td>\n",
        "      <td> 2000-01-10 00:00:00</td>\n",
        "    </tr>\n",
        "    <tr>\n",
        "      <th>6</th>\n",
        "      <td> 0.3995686</td>\n",
        "      <td> 6</td>\n",
        "      <td> foo</td>\n",
        "      <td>  True</td>\n",
        "      <td> 2000-01-11 00:00:00</td>\n",
        "    </tr>\n",
        "    <tr>\n",
        "      <th>7</th>\n",
        "      <td> -1.135127</td>\n",
        "      <td> 7</td>\n",
        "      <td> bar</td>\n",
        "      <td> False</td>\n",
        "      <td> 2000-01-12 00:00:00</td>\n",
        "    </tr>\n",
        "    <tr>\n",
        "      <th>8</th>\n",
        "      <td>  0.403818</td>\n",
        "      <td> 8</td>\n",
        "      <td> foo</td>\n",
        "      <td>  True</td>\n",
        "      <td> 2000-01-13 00:00:00</td>\n",
        "    </tr>\n",
        "    <tr>\n",
        "      <th>9</th>\n",
        "      <td> -0.613612</td>\n",
        "      <td> 9</td>\n",
        "      <td> bar</td>\n",
        "      <td> False</td>\n",
        "      <td> 2000-01-14 00:00:00</td>\n",
        "    </tr>\n",
        "  </tbody>\n",
        "</table>\n",
        "</div>"
       ],
       "metadata": {},
       "output_type": "pyout",
       "prompt_number": 78,
       "text": [
        "      floats ints strings  bools              objects\n",
        "0 -0.5885538    0     foo  False  2000-01-03 00:00:00\n",
        "1  -0.537086    1     bar  False  2000-01-04 00:00:00\n",
        "2 -0.2127143    2     foo  False  2000-01-05 00:00:00\n",
        "3  -2.105458    3     bar  False  2000-01-06 00:00:00\n",
        "4   1.262222    4     foo   True  2000-01-07 00:00:00\n",
        "5   -0.62212    5     bar  False  2000-01-10 00:00:00\n",
        "6  0.3995686    6     foo   True  2000-01-11 00:00:00\n",
        "7  -1.135127    7     bar  False  2000-01-12 00:00:00\n",
        "8   0.403818    8     foo   True  2000-01-13 00:00:00\n",
        "9  -0.613612    9     bar  False  2000-01-14 00:00:00"
       ]
      }
     ],
     "prompt_number": 78
    },
    {
     "cell_type": "code",
     "collapsed": false,
     "input": [
      "foo.T.T.dtypes"
     ],
     "language": "python",
     "metadata": {},
     "outputs": [
      {
       "metadata": {},
       "output_type": "pyout",
       "prompt_number": 79,
       "text": [
        "floats     object\n",
        "ints       object\n",
        "strings    object\n",
        "bools      object\n",
        "objects    object\n",
        "dtype: object"
       ]
      }
     ],
     "prompt_number": 79
    },
    {
     "cell_type": "markdown",
     "metadata": {},
     "source": [
      "Function application\n",
      "====================\n",
      "\n",
      "You can apply arbitrary functions to the rows or columns of a DataFrame"
     ]
    },
    {
     "cell_type": "code",
     "collapsed": false,
     "input": [
      "df.apply(np.mean)"
     ],
     "language": "python",
     "metadata": {},
     "outputs": [
      {
       "metadata": {},
       "output_type": "pyout",
       "prompt_number": 81,
       "text": [
        "AAPL    389.424\n",
        "IBM     182.405\n",
        "MSFT     26.370\n",
        "dtype: float64"
       ]
      }
     ],
     "prompt_number": 81
    },
    {
     "cell_type": "code",
     "collapsed": false,
     "input": [
      "df.apply(np.mean, axis=1)"
     ],
     "language": "python",
     "metadata": {},
     "outputs": [
      {
       "metadata": {},
       "output_type": "pyout",
       "prompt_number": 82,
       "text": [
        "2011-10-03    190.806667\n",
        "2011-10-04    190.860000\n",
        "2011-10-05    193.663333\n",
        "2011-10-06    195.133333\n",
        "2011-10-07    192.813333\n",
        "2011-10-10    200.790000\n",
        "2011-10-11    204.096667\n",
        "2011-10-12    205.090000\n",
        "2011-10-13    207.476667\n",
        "2011-10-14    213.266667\n",
        "dtype: float64"
       ]
      }
     ],
     "prompt_number": 82
    },
    {
     "cell_type": "code",
     "collapsed": false,
     "input": [
      "# Get the maximum value\n",
      "# This is a common operation\n",
      "close_px.AAPL.idxmax()"
     ],
     "language": "python",
     "metadata": {},
     "outputs": [
      {
       "metadata": {},
       "output_type": "pyout",
       "prompt_number": 84,
       "text": [
        "Timestamp('2011-10-14 00:00:00', tz=None)"
       ]
      }
     ],
     "prompt_number": 84
    },
    {
     "cell_type": "code",
     "collapsed": false,
     "input": [
      "# Same as above\n",
      "close_px.AAPL.index[close_px.AAPL.argmax()]"
     ],
     "language": "python",
     "metadata": {},
     "outputs": [
      {
       "metadata": {},
       "output_type": "pyout",
       "prompt_number": 85,
       "text": [
        "Timestamp('2011-10-14 00:00:00', tz=None)"
       ]
      }
     ],
     "prompt_number": 85
    },
    {
     "cell_type": "markdown",
     "metadata": {},
     "source": [
      "You can get as fancy as you want"
     ]
    },
    {
     "cell_type": "code",
     "collapsed": false,
     "input": [
      "close_px"
     ],
     "language": "python",
     "metadata": {},
     "outputs": [
      {
       "html": [
        "<pre>\n",
        "&lt;class 'pandas.core.frame.DataFrame'&gt;\n",
        "DatetimeIndex: 1000 entries, 2007-10-29 00:00:00 to 2011-10-14 00:00:00\n",
        "Data columns (total 9 columns):\n",
        "AA      1000  non-null values\n",
        "AAPL    1000  non-null values\n",
        "GE      1000  non-null values\n",
        "IBM     1000  non-null values\n",
        "JNJ     1000  non-null values\n",
        "MSFT    1000  non-null values\n",
        "PEP     1000  non-null values\n",
        "SPX     1000  non-null values\n",
        "XOM     1000  non-null values\n",
        "dtypes: float64(9)\n",
        "</pre>"
       ],
       "metadata": {},
       "output_type": "pyout",
       "prompt_number": 83,
       "text": [
        "<class 'pandas.core.frame.DataFrame'>\n",
        "DatetimeIndex: 1000 entries, 2007-10-29 00:00:00 to 2011-10-14 00:00:00\n",
        "Data columns (total 9 columns):\n",
        "AA      1000  non-null values\n",
        "AAPL    1000  non-null values\n",
        "GE      1000  non-null values\n",
        "IBM     1000  non-null values\n",
        "JNJ     1000  non-null values\n",
        "MSFT    1000  non-null values\n",
        "PEP     1000  non-null values\n",
        "SPX     1000  non-null values\n",
        "XOM     1000  non-null values\n",
        "dtypes: float64(9)"
       ]
      }
     ],
     "prompt_number": 83
    },
    {
     "cell_type": "code",
     "collapsed": false,
     "input": [
      "# Returns the maximum value for each column\n",
      "\n",
      "def peak_date(series):\n",
      "    return series.idxmax()\n",
      "close_px.apply(peak_date)"
     ],
     "language": "python",
     "metadata": {},
     "outputs": [
      {
       "metadata": {},
       "output_type": "pyout",
       "prompt_number": 86,
       "text": [
        "AA     2008-05-19 00:00:00\n",
        "AAPL   2011-10-14 00:00:00\n",
        "GE     2007-10-31 00:00:00\n",
        "IBM    2011-10-14 00:00:00\n",
        "JNJ    2011-07-07 00:00:00\n",
        "MSFT   2007-11-01 00:00:00\n",
        "PEP    2008-01-10 00:00:00\n",
        "SPX    2007-10-31 00:00:00\n",
        "XOM    2008-05-20 00:00:00\n",
        "dtype: datetime64[ns]"
       ]
      }
     ],
     "prompt_number": 86
    },
    {
     "cell_type": "code",
     "collapsed": false,
     "input": [
      "df.apply(lambda x: x.max() - x.min()) # np.ptp"
     ],
     "language": "python",
     "metadata": {},
     "outputs": [
      {
       "metadata": {},
       "output_type": "pyout",
       "prompt_number": 87,
       "text": [
        "AAPL    52.20\n",
        "IBM     17.24\n",
        "MSFT     2.74\n",
        "dtype: float64"
       ]
      }
     ],
     "prompt_number": 87
    },
    {
     "cell_type": "code",
     "collapsed": false,
     "input": [
      "np.log(close_px)"
     ],
     "language": "python",
     "metadata": {},
     "outputs": [
      {
       "html": [
        "<pre>\n",
        "&lt;class 'pandas.core.frame.DataFrame'&gt;\n",
        "DatetimeIndex: 1000 entries, 2007-10-29 00:00:00 to 2011-10-14 00:00:00\n",
        "Data columns (total 9 columns):\n",
        "AA      1000  non-null values\n",
        "AAPL    1000  non-null values\n",
        "GE      1000  non-null values\n",
        "IBM     1000  non-null values\n",
        "JNJ     1000  non-null values\n",
        "MSFT    1000  non-null values\n",
        "PEP     1000  non-null values\n",
        "SPX     1000  non-null values\n",
        "XOM     1000  non-null values\n",
        "dtypes: float64(9)\n",
        "</pre>"
       ],
       "metadata": {},
       "output_type": "pyout",
       "prompt_number": 88,
       "text": [
        "<class 'pandas.core.frame.DataFrame'>\n",
        "DatetimeIndex: 1000 entries, 2007-10-29 00:00:00 to 2011-10-14 00:00:00\n",
        "Data columns (total 9 columns):\n",
        "AA      1000  non-null values\n",
        "AAPL    1000  non-null values\n",
        "GE      1000  non-null values\n",
        "IBM     1000  non-null values\n",
        "JNJ     1000  non-null values\n",
        "MSFT    1000  non-null values\n",
        "PEP     1000  non-null values\n",
        "SPX     1000  non-null values\n",
        "XOM     1000  non-null values\n",
        "dtypes: float64(9)"
       ]
      }
     ],
     "prompt_number": 88
    },
    {
     "cell_type": "markdown",
     "metadata": {},
     "source": [
      "Plotting\n",
      "========\n",
      "\n",
      "Some basic plotting integration with matplotlib in Series / DataFrame"
     ]
    },
    {
     "cell_type": "code",
     "collapsed": false,
     "input": [
      "# You can pass a list of columns\n",
      "close_px[['AAPL', 'IBM', 'MSFT', 'XOM']].plot()"
     ],
     "language": "python",
     "metadata": {},
     "outputs": [
      {
       "metadata": {},
       "output_type": "pyout",
       "prompt_number": 89,
       "text": [
        "<matplotlib.axes.AxesSubplot at 0x10d6a9350>"
       ]
      },
      {
       "metadata": {},
       "output_type": "display_data",
       "png": "[encoded data removed]",
       "text": [
        "<matplotlib.figure.Figure at 0x10d73bad0>"
       ]
      }
     ],
     "prompt_number": 89
    },
    {
     "cell_type": "code",
     "collapsed": false,
     "input": [
      "rets.ix[-1]"
     ],
     "language": "python",
     "metadata": {},
     "outputs": [
      {
       "ename": "NameError",
       "evalue": "name 'rets' is not defined",
       "output_type": "pyerr",
       "traceback": [
        "\u001b[0;31m---------------------------------------------------------------------------\u001b[0m\n\u001b[0;31mNameError\u001b[0m                                 Traceback (most recent call last)",
        "\u001b[0;32m<ipython-input-90-4dd6f0238530>\u001b[0m in \u001b[0;36m<module>\u001b[0;34m()\u001b[0m\n\u001b[0;32m----> 1\u001b[0;31m \u001b[0mrets\u001b[0m\u001b[0;34m.\u001b[0m\u001b[0mix\u001b[0m\u001b[0;34m[\u001b[0m\u001b[0;34m-\u001b[0m\u001b[0;36m1\u001b[0m\u001b[0;34m]\u001b[0m\u001b[0;34m\u001b[0m\u001b[0m\n\u001b[0m",
        "\u001b[0;31mNameError\u001b[0m: name 'rets' is not defined"
       ]
      }
     ],
     "prompt_number": 90
    },
    {
     "cell_type": "code",
     "collapsed": false,
     "input": [
      "close_px.ix[-1].plot(kind='bar')\n",
      "title('Prices on %s' % close_px.index[-1])\n",
      "axhline(0)"
     ],
     "language": "python",
     "metadata": {},
     "outputs": [
      {
       "metadata": {},
       "output_type": "pyout",
       "prompt_number": 91,
       "text": [
        "<matplotlib.lines.Line2D at 0x10d75f850>"
       ]
      },
      {
       "metadata": {},
       "output_type": "display_data",
       "png": "[encoded data removed]",
       "text": [
        "<matplotlib.figure.Figure at 0x10d75f890>"
       ]
      }
     ],
     "prompt_number": 91
    },
    {
     "cell_type": "markdown",
     "metadata": {},
     "source": [
      "Hierarchical indexing\n",
      "---------------------"
     ]
    },
    {
     "cell_type": "code",
     "collapsed": false,
     "input": [
      "index = MultiIndex(levels=[['foo', 'bar', 'baz', 'qux'],\n",
      "                                   ['one', 'two', 'three']],\n",
      "                           labels=[[0, 0, 0, 1, 1, 2, 2, 3, 3, 3],\n",
      "                                   [0, 1, 2, 0, 1, 1, 2, 0, 1, 2]])\n",
      "hdf = DataFrame(np.random.randn(10, 3), index=index,\n",
      "                columns=['A', 'B', 'C'])\n",
      "hdf"
     ],
     "language": "python",
     "metadata": {},
     "outputs": [
      {
       "html": [
        "<div style=\"max-height:1000px;max-width:1500px;overflow:auto;\">\n",
        "<table border=\"1\" class=\"dataframe\">\n",
        "  <thead>\n",
        "    <tr style=\"text-align: right;\">\n",
        "      <th></th>\n",
        "      <th></th>\n",
        "      <th>A</th>\n",
        "      <th>B</th>\n",
        "      <th>C</th>\n",
        "    </tr>\n",
        "  </thead>\n",
        "  <tbody>\n",
        "    <tr>\n",
        "      <th rowspan=\"3\" valign=\"top\">foo</th>\n",
        "      <th>one</th>\n",
        "      <td>-0.463083</td>\n",
        "      <td> 0.652513</td>\n",
        "      <td> 0.549975</td>\n",
        "    </tr>\n",
        "    <tr>\n",
        "      <th>two</th>\n",
        "      <td>-0.254069</td>\n",
        "      <td>-0.335500</td>\n",
        "      <td> 1.543272</td>\n",
        "    </tr>\n",
        "    <tr>\n",
        "      <th>three</th>\n",
        "      <td>-0.159276</td>\n",
        "      <td> 0.114232</td>\n",
        "      <td>-0.225985</td>\n",
        "    </tr>\n",
        "    <tr>\n",
        "      <th rowspan=\"2\" valign=\"top\">bar</th>\n",
        "      <th>one</th>\n",
        "      <td>-0.917903</td>\n",
        "      <td>-0.121694</td>\n",
        "      <td>-0.974304</td>\n",
        "    </tr>\n",
        "    <tr>\n",
        "      <th>two</th>\n",
        "      <td>-0.942115</td>\n",
        "      <td>-1.893870</td>\n",
        "      <td> 0.436626</td>\n",
        "    </tr>\n",
        "    <tr>\n",
        "      <th rowspan=\"2\" valign=\"top\">baz</th>\n",
        "      <th>two</th>\n",
        "      <td> 0.039197</td>\n",
        "      <td> 1.454434</td>\n",
        "      <td> 0.954293</td>\n",
        "    </tr>\n",
        "    <tr>\n",
        "      <th>three</th>\n",
        "      <td>-0.314003</td>\n",
        "      <td>-0.354707</td>\n",
        "      <td> 0.425464</td>\n",
        "    </tr>\n",
        "    <tr>\n",
        "      <th rowspan=\"3\" valign=\"top\">qux</th>\n",
        "      <th>one</th>\n",
        "      <td> 0.386315</td>\n",
        "      <td>-0.488084</td>\n",
        "      <td> 2.409545</td>\n",
        "    </tr>\n",
        "    <tr>\n",
        "      <th>two</th>\n",
        "      <td>-2.053594</td>\n",
        "      <td>-0.510046</td>\n",
        "      <td> 0.177465</td>\n",
        "    </tr>\n",
        "    <tr>\n",
        "      <th>three</th>\n",
        "      <td>-0.024735</td>\n",
        "      <td>-0.579293</td>\n",
        "      <td> 0.573385</td>\n",
        "    </tr>\n",
        "  </tbody>\n",
        "</table>\n",
        "</div>"
       ],
       "metadata": {},
       "output_type": "pyout",
       "prompt_number": 92,
       "text": [
        "                  A         B         C\n",
        "foo one   -0.463083  0.652513  0.549975\n",
        "    two   -0.254069 -0.335500  1.543272\n",
        "    three -0.159276  0.114232 -0.225985\n",
        "bar one   -0.917903 -0.121694 -0.974304\n",
        "    two   -0.942115 -1.893870  0.436626\n",
        "baz two    0.039197  1.454434  0.954293\n",
        "    three -0.314003 -0.354707  0.425464\n",
        "qux one    0.386315 -0.488084  2.409545\n",
        "    two   -2.053594 -0.510046  0.177465\n",
        "    three -0.024735 -0.579293  0.573385"
       ]
      }
     ],
     "prompt_number": 92
    },
    {
     "cell_type": "code",
     "collapsed": false,
     "input": [
      "hdf.ix['foo']"
     ],
     "language": "python",
     "metadata": {},
     "outputs": [
      {
       "html": [
        "<div style=\"max-height:1000px;max-width:1500px;overflow:auto;\">\n",
        "<table border=\"1\" class=\"dataframe\">\n",
        "  <thead>\n",
        "    <tr style=\"text-align: right;\">\n",
        "      <th></th>\n",
        "      <th>A</th>\n",
        "      <th>B</th>\n",
        "      <th>C</th>\n",
        "    </tr>\n",
        "  </thead>\n",
        "  <tbody>\n",
        "    <tr>\n",
        "      <th>one</th>\n",
        "      <td>-0.463083</td>\n",
        "      <td> 0.652513</td>\n",
        "      <td> 0.549975</td>\n",
        "    </tr>\n",
        "    <tr>\n",
        "      <th>two</th>\n",
        "      <td>-0.254069</td>\n",
        "      <td>-0.335500</td>\n",
        "      <td> 1.543272</td>\n",
        "    </tr>\n",
        "    <tr>\n",
        "      <th>three</th>\n",
        "      <td>-0.159276</td>\n",
        "      <td> 0.114232</td>\n",
        "      <td>-0.225985</td>\n",
        "    </tr>\n",
        "  </tbody>\n",
        "</table>\n",
        "</div>"
       ],
       "metadata": {},
       "output_type": "pyout",
       "prompt_number": 93,
       "text": [
        "              A         B         C\n",
        "one   -0.463083  0.652513  0.549975\n",
        "two   -0.254069 -0.335500  1.543272\n",
        "three -0.159276  0.114232 -0.225985"
       ]
      }
     ],
     "prompt_number": 93
    },
    {
     "cell_type": "code",
     "collapsed": false,
     "input": [
      "hdf.ix['foo'] = 0\n",
      "hdf"
     ],
     "language": "python",
     "metadata": {},
     "outputs": [
      {
       "html": [
        "<div style=\"max-height:1000px;max-width:1500px;overflow:auto;\">\n",
        "<table border=\"1\" class=\"dataframe\">\n",
        "  <thead>\n",
        "    <tr style=\"text-align: right;\">\n",
        "      <th></th>\n",
        "      <th></th>\n",
        "      <th>A</th>\n",
        "      <th>B</th>\n",
        "      <th>C</th>\n",
        "    </tr>\n",
        "  </thead>\n",
        "  <tbody>\n",
        "    <tr>\n",
        "      <th rowspan=\"3\" valign=\"top\">foo</th>\n",
        "      <th>one</th>\n",
        "      <td> 0.000000</td>\n",
        "      <td> 0.000000</td>\n",
        "      <td> 0.000000</td>\n",
        "    </tr>\n",
        "    <tr>\n",
        "      <th>two</th>\n",
        "      <td> 0.000000</td>\n",
        "      <td> 0.000000</td>\n",
        "      <td> 0.000000</td>\n",
        "    </tr>\n",
        "    <tr>\n",
        "      <th>three</th>\n",
        "      <td> 0.000000</td>\n",
        "      <td> 0.000000</td>\n",
        "      <td> 0.000000</td>\n",
        "    </tr>\n",
        "    <tr>\n",
        "      <th rowspan=\"2\" valign=\"top\">bar</th>\n",
        "      <th>one</th>\n",
        "      <td>-0.917903</td>\n",
        "      <td>-0.121694</td>\n",
        "      <td>-0.974304</td>\n",
        "    </tr>\n",
        "    <tr>\n",
        "      <th>two</th>\n",
        "      <td>-0.942115</td>\n",
        "      <td>-1.893870</td>\n",
        "      <td> 0.436626</td>\n",
        "    </tr>\n",
        "    <tr>\n",
        "      <th rowspan=\"2\" valign=\"top\">baz</th>\n",
        "      <th>two</th>\n",
        "      <td> 0.039197</td>\n",
        "      <td> 1.454434</td>\n",
        "      <td> 0.954293</td>\n",
        "    </tr>\n",
        "    <tr>\n",
        "      <th>three</th>\n",
        "      <td>-0.314003</td>\n",
        "      <td>-0.354707</td>\n",
        "      <td> 0.425464</td>\n",
        "    </tr>\n",
        "    <tr>\n",
        "      <th rowspan=\"3\" valign=\"top\">qux</th>\n",
        "      <th>one</th>\n",
        "      <td> 0.386315</td>\n",
        "      <td>-0.488084</td>\n",
        "      <td> 2.409545</td>\n",
        "    </tr>\n",
        "    <tr>\n",
        "      <th>two</th>\n",
        "      <td>-2.053594</td>\n",
        "      <td>-0.510046</td>\n",
        "      <td> 0.177465</td>\n",
        "    </tr>\n",
        "    <tr>\n",
        "      <th>three</th>\n",
        "      <td>-0.024735</td>\n",
        "      <td>-0.579293</td>\n",
        "      <td> 0.573385</td>\n",
        "    </tr>\n",
        "  </tbody>\n",
        "</table>\n",
        "</div>"
       ],
       "metadata": {},
       "output_type": "pyout",
       "prompt_number": 94,
       "text": [
        "                  A         B         C\n",
        "foo one    0.000000  0.000000  0.000000\n",
        "    two    0.000000  0.000000  0.000000\n",
        "    three  0.000000  0.000000  0.000000\n",
        "bar one   -0.917903 -0.121694 -0.974304\n",
        "    two   -0.942115 -1.893870  0.436626\n",
        "baz two    0.039197  1.454434  0.954293\n",
        "    three -0.314003 -0.354707  0.425464\n",
        "qux one    0.386315 -0.488084  2.409545\n",
        "    two   -2.053594 -0.510046  0.177465\n",
        "    three -0.024735 -0.579293  0.573385"
       ]
      }
     ],
     "prompt_number": 94
    },
    {
     "cell_type": "code",
     "collapsed": false,
     "input": [
      "hdf.ix['foo', 'three']"
     ],
     "language": "python",
     "metadata": {},
     "outputs": [
      {
       "metadata": {},
       "output_type": "pyout",
       "prompt_number": 95,
       "text": [
        "A    0\n",
        "B    0\n",
        "C    0\n",
        "Name: (foo, three), dtype: float64"
       ]
      }
     ],
     "prompt_number": 95
    },
    {
     "cell_type": "markdown",
     "metadata": {},
     "source": [
      "Stacking and unstacking\n",
      "-----------------------"
     ]
    },
    {
     "cell_type": "code",
     "collapsed": false,
     "input": [
      "tuples = zip(*[['bar', 'bar', 'baz', 'baz',\n",
      "                'foo', 'foo', 'qux', 'qux'],\n",
      "               ['one', 'two', 'one', 'two',\n",
      "                'one', 'two', 'one', 'two']])\n",
      "index = MultiIndex.from_tuples(tuples)\n",
      "columns = MultiIndex.from_tuples([('A', 'cat'), ('B', 'dog'),\n",
      "                                  ('B', 'cat'), ('A', 'dog')])\n",
      "df = DataFrame(randn(8, 4), index=index, columns=columns)\n",
      "df"
     ],
     "language": "python",
     "metadata": {},
     "outputs": [],
     "prompt_number": 48
    },
    {
     "cell_type": "code",
     "collapsed": false,
     "input": [
      "df2 = df.ix[[0, 1, 2, 4, 5, 7]]\n",
      "df2"
     ],
     "language": "python",
     "metadata": {},
     "outputs": [],
     "prompt_number": 49
    },
    {
     "cell_type": "code",
     "collapsed": false,
     "input": [
      "df.unstack()['B']"
     ],
     "language": "python",
     "metadata": {},
     "outputs": [],
     "prompt_number": 50
    },
    {
     "cell_type": "markdown",
     "metadata": {},
     "source": [
      "GroupBy\n",
      "======="
     ]
    },
    {
     "cell_type": "code",
     "collapsed": false,
     "input": [
      "df = DataFrame({'A' : ['foo', 'bar', 'foo', 'bar',\n",
      "                       'foo', 'bar', 'foo', 'foo'],\n",
      "                'B' : ['one', 'one', 'two', 'three',\n",
      "                       'two', 'two', 'one', 'three'],\n",
      "                'C' : np.random.randn(8),\n",
      "                'D' : np.random.randn(8)})\n",
      "df"
     ],
     "language": "python",
     "metadata": {},
     "outputs": [],
     "prompt_number": 51
    },
    {
     "cell_type": "code",
     "collapsed": false,
     "input": [
      "for key, group in df.groupby('A'):\n",
      "    print key\n",
      "    print group"
     ],
     "language": "python",
     "metadata": {},
     "outputs": [],
     "prompt_number": 52
    },
    {
     "cell_type": "code",
     "collapsed": false,
     "input": [
      "df.groupby('A')['C'].describe().T"
     ],
     "language": "python",
     "metadata": {},
     "outputs": [],
     "prompt_number": 53
    },
    {
     "cell_type": "code",
     "collapsed": false,
     "input": [
      "df.groupby('A').mean()"
     ],
     "language": "python",
     "metadata": {},
     "outputs": [],
     "prompt_number": 54
    },
    {
     "cell_type": "code",
     "collapsed": false,
     "input": [
      "for key, group in df.groupby('A'):\n",
      "    print key\n",
      "    print group"
     ],
     "language": "python",
     "metadata": {},
     "outputs": [],
     "prompt_number": 55
    },
    {
     "cell_type": "code",
     "collapsed": false,
     "input": [
      "df.groupby(['A', 'B']).mean()"
     ],
     "language": "python",
     "metadata": {},
     "outputs": [],
     "prompt_number": 56
    },
    {
     "cell_type": "code",
     "collapsed": false,
     "input": [
      "df.groupby(['A', 'B'], as_index=False).mean()"
     ],
     "language": "python",
     "metadata": {},
     "outputs": [],
     "prompt_number": 57
    },
    {
     "cell_type": "markdown",
     "metadata": {},
     "source": [
      "GroupBy example: linear regression by group\n",
      "-------------------------------------------"
     ]
    },
    {
     "cell_type": "code",
     "collapsed": false,
     "input": [
      "import scikits.statsmodels.api as sm\n",
      "rets = close_px / close_px.shift(1) - 1\n",
      "\n",
      "def get_beta(rets):\n",
      "    rets = rets.dropna()\n",
      "    rets['intercept'] = 1.\n",
      "    model = sm.OLS(rets['MSFT'], rets.ix[:, ['AAPL', 'intercept']]).fit()\n",
      "    return model.params\n",
      "\n",
      "get_beta(rets)"
     ],
     "language": "python",
     "metadata": {},
     "outputs": [],
     "prompt_number": 58
    },
    {
     "cell_type": "code",
     "collapsed": false,
     "input": [
      "grouped = rets.groupby([lambda x: x.year, lambda x: x.month])\n",
      "beta_by_ym = grouped.apply(get_beta)\n",
      "beta_by_ym"
     ],
     "language": "python",
     "metadata": {},
     "outputs": [],
     "prompt_number": 59
    },
    {
     "cell_type": "code",
     "collapsed": false,
     "input": [
      "beta_by_ym.unstack(0)['AAPL']"
     ],
     "language": "python",
     "metadata": {},
     "outputs": [],
     "prompt_number": 60
    },
    {
     "cell_type": "markdown",
     "metadata": {},
     "source": [
      "GroupBy with hierarchical indexing\n",
      "----------------------------------"
     ]
    },
    {
     "cell_type": "code",
     "collapsed": false,
     "input": [
      "tuples = zip(*[['bar', 'bar', 'baz', 'baz',\n",
      "                'foo', 'foo', 'qux', 'qux'],\n",
      "               ['one', 'two', 'one', 'two',\n",
      "                'one', 'two', 'one', 'two']])\n",
      "index = MultiIndex.from_tuples(tuples)\n",
      "columns = MultiIndex.from_tuples([('A', 'cat'), ('B', 'dog'),\n",
      "                                  ('B', 'cat'), ('A', 'dog')])\n",
      "df = DataFrame(randn(8, 4), index=index, columns=columns)\n",
      "df"
     ],
     "language": "python",
     "metadata": {},
     "outputs": [],
     "prompt_number": 61
    },
    {
     "cell_type": "code",
     "collapsed": false,
     "input": [
      "df.groupby(level=0, axis=0).mean()"
     ],
     "language": "python",
     "metadata": {},
     "outputs": [],
     "prompt_number": 62
    },
    {
     "cell_type": "code",
     "collapsed": false,
     "input": [
      "df.stack()"
     ],
     "language": "python",
     "metadata": {},
     "outputs": [],
     "prompt_number": 63
    },
    {
     "cell_type": "code",
     "collapsed": false,
     "input": [
      "df.stack().mean(1).unstack()"
     ],
     "language": "python",
     "metadata": {},
     "outputs": [],
     "prompt_number": 64
    },
    {
     "cell_type": "code",
     "collapsed": false,
     "input": [
      "# could also have done\n",
      "df.groupby(level=1, axis=1).mean()"
     ],
     "language": "python",
     "metadata": {},
     "outputs": [],
     "prompt_number": 65
    },
    {
     "cell_type": "code",
     "collapsed": true,
     "input": [],
     "language": "python",
     "metadata": {},
     "outputs": [],
     "prompt_number": "&nbsp;"
    }
   ],
   "metadata": {}
  }
 ]
}