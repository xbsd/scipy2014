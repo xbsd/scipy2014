{
 "metadata": {
  "name": ""
 },
 "nbformat": 3,
 "nbformat_minor": 0,
 "worksheets": [
  {
   "cells": [
    {
     "cell_type": "code",
     "collapsed": false,
     "input": [
      "from pandas import *\n",
      "set_printoptions(notebook_repr_html=False)\n",
      "set_printoptions(max_rows=500)\n",
      "pandas.__version__"
     ],
     "language": "python",
     "metadata": {},
     "outputs": [
      {
       "metadata": {},
       "output_type": "pyout",
       "prompt_number": 54,
       "text": [
        "'0.12.0'"
       ]
      }
     ],
     "prompt_number": 54
    },
    {
     "cell_type": "code",
     "collapsed": false,
     "input": [
      "names = read_csv('baby-names2.csv')"
     ],
     "language": "python",
     "metadata": {},
     "outputs": [],
     "prompt_number": 9
    },
    {
     "cell_type": "code",
     "collapsed": false,
     "input": [
      "names.head()"
     ],
     "language": "python",
     "metadata": {},
     "outputs": [
      {
       "metadata": {},
       "output_type": "pyout",
       "prompt_number": 10,
       "text": [
        "   year     name      prop  sex soundex\n",
        "0  1880     John  0.081541  boy    J500\n",
        "1  1880  William  0.080511  boy    W450\n",
        "2  1880    James  0.050057  boy    J520\n",
        "3  1880  Charles  0.045167  boy    C642\n",
        "4  1880   George  0.043292  boy    G620"
       ]
      }
     ],
     "prompt_number": 10
    },
    {
     "cell_type": "code",
     "collapsed": false,
     "input": [
      "# names.year creates a boolean array\n",
      "names[names.year == 1880]"
     ],
     "language": "python",
     "metadata": {},
     "outputs": [
      {
       "output_type": "stream",
       "stream": "stdout",
       "text": [
        "<class 'pandas.core.frame.DataFrame'>\n",
        "Int64Index: 2000 entries, 0 to 129999\n",
        "Data columns (total 5 columns):\n",
        "year       2000  non-null values\n",
        "name       2000  non-null values\n",
        "prop       2000  non-null values\n",
        "sex        2000  non-null values\n",
        "soundex    2000  non-null values\n",
        "dtypes: float64(1), int64(1), object(3)\n"
       ]
      }
     ],
     "prompt_number": 14
    },
    {
     "cell_type": "code",
     "collapsed": false,
     "input": [
      "names[names.year==1880].head()"
     ],
     "language": "python",
     "metadata": {},
     "outputs": [
      {
       "metadata": {},
       "output_type": "pyout",
       "prompt_number": 16,
       "text": [
        "   year     name      prop  sex soundex\n",
        "0  1880     John  0.081541  boy    J500\n",
        "1  1880  William  0.080511  boy    W450\n",
        "2  1880    James  0.050057  boy    J520\n",
        "3  1880  Charles  0.045167  boy    C642\n",
        "4  1880   George  0.043292  boy    G620"
       ]
      }
     ],
     "prompt_number": 16
    },
    {
     "cell_type": "code",
     "collapsed": false,
     "input": [
      "names[names['year'] == 1880]"
     ],
     "language": "python",
     "metadata": {},
     "outputs": [
      {
       "metadata": {},
       "output_type": "pyout",
       "prompt_number": 21,
       "text": [
        "<class 'pandas.core.frame.DataFrame'>\n",
        "Int64Index: 2000 entries, 0 to 129999\n",
        "Data columns (total 5 columns):\n",
        "year       2000  non-null values\n",
        "name       2000  non-null values\n",
        "prop       2000  non-null values\n",
        "sex        2000  non-null values\n",
        "soundex    2000  non-null values\n",
        "dtypes: float64(1), int64(1), object(3)"
       ]
      }
     ],
     "prompt_number": 21
    },
    {
     "cell_type": "code",
     "collapsed": false,
     "input": [
      "names[:10]"
     ],
     "language": "python",
     "metadata": {},
     "outputs": [
      {
       "metadata": {},
       "output_type": "pyout",
       "prompt_number": 19,
       "text": [
        "   year     name      prop  sex soundex\n",
        "0  1880     John  0.081541  boy    J500\n",
        "1  1880  William  0.080511  boy    W450\n",
        "2  1880    James  0.050057  boy    J520\n",
        "3  1880  Charles  0.045167  boy    C642\n",
        "4  1880   George  0.043292  boy    G620\n",
        "5  1880    Frank  0.027380  boy    F652\n",
        "6  1880   Joseph  0.022229  boy    J210\n",
        "7  1880   Thomas  0.021401  boy    T520\n",
        "8  1880    Henry  0.020641  boy    H560\n",
        "9  1880   Robert  0.020404  boy    R163"
       ]
      }
     ],
     "prompt_number": 19
    },
    {
     "cell_type": "code",
     "collapsed": false,
     "input": [
      "# Creating new DataFrames\n",
      "boys = names[names.sex == 'boy']\n",
      "girls = names[names.sex == 'girl']"
     ],
     "language": "python",
     "metadata": {},
     "outputs": [],
     "prompt_number": 18
    },
    {
     "cell_type": "code",
     "collapsed": false,
     "input": [
      "boys"
     ],
     "language": "python",
     "metadata": {},
     "outputs": [
      {
       "metadata": {},
       "output_type": "pyout",
       "prompt_number": 22,
       "text": [
        "<class 'pandas.core.frame.DataFrame'>\n",
        "Int64Index: 129000 entries, 0 to 128999\n",
        "Data columns (total 5 columns):\n",
        "year       129000  non-null values\n",
        "name       129000  non-null values\n",
        "prop       129000  non-null values\n",
        "sex        129000  non-null values\n",
        "soundex    129000  non-null values\n",
        "dtypes: float64(1), int64(1), object(3)"
       ]
      }
     ],
     "prompt_number": 22
    },
    {
     "cell_type": "code",
     "collapsed": false,
     "input": [
      "boys.groupby('year')"
     ],
     "language": "python",
     "metadata": {},
     "outputs": [
      {
       "metadata": {},
       "output_type": "pyout",
       "prompt_number": 46,
       "text": [
        "<pandas.core.groupby.DataFrameGroupBy object at 0x10d21b5d0>"
       ]
      }
     ],
     "prompt_number": 46
    },
    {
     "cell_type": "code",
     "collapsed": false,
     "input": [
      "names.groupby(['year','sex']).size()"
     ],
     "language": "python",
     "metadata": {},
     "outputs": [
      {
       "metadata": {},
       "output_type": "pyout",
       "prompt_number": 45,
       "text": [
        "year  sex \n",
        "1880  boy     1000\n",
        "      girl    1000\n",
        "1881  boy     1000\n",
        "      girl    1000\n",
        "1882  boy     1000\n",
        "      girl    1000\n",
        "1883  boy     1000\n",
        "      girl    1000\n",
        "1884  boy     1000\n",
        "      girl    1000\n",
        "1885  boy     1000\n",
        "      girl    1000\n",
        "1886  boy     1000\n",
        "      girl    1000\n",
        "1887  boy     1000\n",
        "...\n",
        "2001  girl    1000\n",
        "2002  boy     1000\n",
        "      girl    1000\n",
        "2003  boy     1000\n",
        "      girl    1000\n",
        "2004  boy     1000\n",
        "      girl    1000\n",
        "2005  boy     1000\n",
        "      girl    1000\n",
        "2006  boy     1000\n",
        "      girl    1000\n",
        "2007  boy     1000\n",
        "      girl    1000\n",
        "2008  boy     1000\n",
        "      girl    1000\n",
        "Length: 258, dtype: int64"
       ]
      }
     ],
     "prompt_number": 45
    },
    {
     "cell_type": "code",
     "collapsed": false,
     "input": [
      "# groupby returns the groupby object\n",
      "boys.groupby('year')"
     ],
     "language": "python",
     "metadata": {},
     "outputs": [
      {
       "metadata": {},
       "output_type": "pyout",
       "prompt_number": 23,
       "text": [
        "<pandas.core.groupby.DataFrameGroupBy object at 0x10d1aded0>"
       ]
      }
     ],
     "prompt_number": 23
    },
    {
     "cell_type": "code",
     "collapsed": false,
     "input": [
      "# Shows that there are 1000 records per year\n",
      "boys.groupby('year').size()"
     ],
     "language": "python",
     "metadata": {},
     "outputs": [
      {
       "metadata": {},
       "output_type": "pyout",
       "prompt_number": 24,
       "text": [
        "year\n",
        "1880    1000\n",
        "1881    1000\n",
        "1882    1000\n",
        "1883    1000\n",
        "1884    1000\n",
        "1885    1000\n",
        "1886    1000\n",
        "1887    1000\n",
        "1888    1000\n",
        "1889    1000\n",
        "1890    1000\n",
        "1891    1000\n",
        "1892    1000\n",
        "1893    1000\n",
        "1894    1000\n",
        "...\n",
        "1994    1000\n",
        "1995    1000\n",
        "1996    1000\n",
        "1997    1000\n",
        "1998    1000\n",
        "1999    1000\n",
        "2000    1000\n",
        "2001    1000\n",
        "2002    1000\n",
        "2003    1000\n",
        "2004    1000\n",
        "2005    1000\n",
        "2006    1000\n",
        "2007    1000\n",
        "2008    1000\n",
        "Length: 129, dtype: int64"
       ]
      }
     ],
     "prompt_number": 24
    },
    {
     "cell_type": "code",
     "collapsed": false,
     "input": [
      "# Grouping by 2 variables\n",
      "# Creates a hierarchical indes\n",
      "names.groupby(['sex','year']).size()"
     ],
     "language": "python",
     "metadata": {},
     "outputs": [
      {
       "metadata": {},
       "output_type": "pyout",
       "prompt_number": 25,
       "text": [
        "sex  year\n",
        "boy  1880    1000\n",
        "     1881    1000\n",
        "     1882    1000\n",
        "     1883    1000\n",
        "     1884    1000\n",
        "     1885    1000\n",
        "     1886    1000\n",
        "     1887    1000\n",
        "     1888    1000\n",
        "     1889    1000\n",
        "     1890    1000\n",
        "     1891    1000\n",
        "     1892    1000\n",
        "     1893    1000\n",
        "     1894    1000\n",
        "...\n",
        "girl  1994    1000\n",
        "      1995    1000\n",
        "      1996    1000\n",
        "      1997    1000\n",
        "      1998    1000\n",
        "      1999    1000\n",
        "      2000    1000\n",
        "      2001    1000\n",
        "      2002    1000\n",
        "      2003    1000\n",
        "      2004    1000\n",
        "      2005    1000\n",
        "      2006    1000\n",
        "      2007    1000\n",
        "      2008    1000\n",
        "Length: 258, dtype: int64"
       ]
      }
     ],
     "prompt_number": 25
    },
    {
     "cell_type": "code",
     "collapsed": false,
     "input": [
      "names.groupby(['sex','year']).size().ix['boy']"
     ],
     "language": "python",
     "metadata": {},
     "outputs": [
      {
       "metadata": {},
       "output_type": "pyout",
       "prompt_number": 27,
       "text": [
        "year\n",
        "1880    1000\n",
        "1881    1000\n",
        "1882    1000\n",
        "1883    1000\n",
        "1884    1000\n",
        "1885    1000\n",
        "1886    1000\n",
        "1887    1000\n",
        "1888    1000\n",
        "1889    1000\n",
        "1890    1000\n",
        "1891    1000\n",
        "1892    1000\n",
        "1893    1000\n",
        "1894    1000\n",
        "...\n",
        "1994    1000\n",
        "1995    1000\n",
        "1996    1000\n",
        "1997    1000\n",
        "1998    1000\n",
        "1999    1000\n",
        "2000    1000\n",
        "2001    1000\n",
        "2002    1000\n",
        "2003    1000\n",
        "2004    1000\n",
        "2005    1000\n",
        "2006    1000\n",
        "2007    1000\n",
        "2008    1000\n",
        "Length: 129, dtype: int64"
       ]
      }
     ],
     "prompt_number": 27
    },
    {
     "cell_type": "code",
     "collapsed": false,
     "input": [
      "names.groupby(['year','sex']).size()"
     ],
     "language": "python",
     "metadata": {},
     "outputs": [
      {
       "metadata": {},
       "output_type": "pyout",
       "prompt_number": 29,
       "text": [
        "year  sex \n",
        "1880  boy     1000\n",
        "      girl    1000\n",
        "1881  boy     1000\n",
        "      girl    1000\n",
        "1882  boy     1000\n",
        "      girl    1000\n",
        "1883  boy     1000\n",
        "      girl    1000\n",
        "1884  boy     1000\n",
        "      girl    1000\n",
        "1885  boy     1000\n",
        "      girl    1000\n",
        "1886  boy     1000\n",
        "      girl    1000\n",
        "1887  boy     1000\n",
        "...\n",
        "2001  girl    1000\n",
        "2002  boy     1000\n",
        "      girl    1000\n",
        "2003  boy     1000\n",
        "      girl    1000\n",
        "2004  boy     1000\n",
        "      girl    1000\n",
        "2005  boy     1000\n",
        "      girl    1000\n",
        "2006  boy     1000\n",
        "      girl    1000\n",
        "2007  boy     1000\n",
        "      girl    1000\n",
        "2008  boy     1000\n",
        "      girl    1000\n",
        "Length: 258, dtype: int64"
       ]
      }
     ],
     "prompt_number": 29
    },
    {
     "cell_type": "code",
     "collapsed": false,
     "input": [
      "names.groupby(['year','sex']).size().ix[2000]"
     ],
     "language": "python",
     "metadata": {},
     "outputs": [
      {
       "metadata": {},
       "output_type": "pyout",
       "prompt_number": 30,
       "text": [
        "sex\n",
        "boy     1000\n",
        "girl    1000\n",
        "dtype: int64"
       ]
      }
     ],
     "prompt_number": 30
    },
    {
     "cell_type": "code",
     "collapsed": false,
     "input": [
      "boys[boys.year == 2000][:5]"
     ],
     "language": "python",
     "metadata": {},
     "outputs": [
      {
       "metadata": {},
       "output_type": "pyout",
       "prompt_number": 47,
       "text": [
        "        year         name      prop  sex soundex\n",
        "120000  2000        Jacob  0.016514  boy    J210\n",
        "120001  2000      Michael  0.015346  boy    M240\n",
        "120002  2000      Matthew  0.013695  boy    M300\n",
        "120003  2000       Joshua  0.013194  boy    J200\n",
        "120004  2000  Christopher  0.011990  boy    C623"
       ]
      }
     ],
     "prompt_number": 47
    },
    {
     "cell_type": "code",
     "collapsed": false,
     "input": [
      "# What are the most popular boys names\n",
      "boys[boys.year == 2000].prop.idxmax() # Gives the index"
     ],
     "language": "python",
     "metadata": {},
     "outputs": [
      {
       "metadata": {},
       "output_type": "pyout",
       "prompt_number": 33,
       "text": [
        "120000"
       ]
      }
     ],
     "prompt_number": 33
    },
    {
     "cell_type": "code",
     "collapsed": false,
     "input": [
      "boys.ix[boys[boys.year == 2000].prop.idxmax()]"
     ],
     "language": "python",
     "metadata": {},
     "outputs": [
      {
       "metadata": {},
       "output_type": "pyout",
       "prompt_number": 48,
       "text": [
        "year           2000\n",
        "name          Jacob\n",
        "prop       0.016514\n",
        "sex             boy\n",
        "soundex        J210\n",
        "Name: 120000, dtype: object"
       ]
      }
     ],
     "prompt_number": 48
    },
    {
     "cell_type": "code",
     "collapsed": false,
     "input": [
      "# Gives the index\n",
      "\n",
      "def get_max_record(group):\n",
      "    # We take the group column and get the index of max value\n",
      "    return group.ix[group.prop.idxmax()]\n",
      "\n",
      "#boys.ix[boys[boys.year == 2000].prop.idxmax()]\n",
      "get_max_record(boys)\n",
      "\n",
      "\n"
     ],
     "language": "python",
     "metadata": {},
     "outputs": [
      {
       "metadata": {},
       "output_type": "pyout",
       "prompt_number": 56,
       "text": [
        "year           1880\n",
        "name           John\n",
        "prop       0.081541\n",
        "sex             boy\n",
        "soundex        J500\n",
        "Name: 0, dtype: object"
       ]
      }
     ],
     "prompt_number": 56
    },
    {
     "cell_type": "code",
     "collapsed": false,
     "input": [
      "boys.groupby('year').apply(get_max_record)[:10]\n"
     ],
     "language": "python",
     "metadata": {},
     "outputs": [
      {
       "metadata": {},
       "output_type": "pyout",
       "prompt_number": 57,
       "text": [
        "      year  name      prop  sex soundex\n",
        "year                                   \n",
        "1880  1880  John  0.081541  boy    J500\n",
        "1881  1881  John  0.080975  boy    J500\n",
        "1882  1882  John  0.078314  boy    J500\n",
        "1883  1883  John  0.079066  boy    J500\n",
        "1884  1884  John  0.076476  boy    J500\n",
        "1885  1885  John  0.075517  boy    J500\n",
        "1886  1886  John  0.075820  boy    J500\n",
        "1887  1887  John  0.074181  boy    J500\n",
        "1888  1888  John  0.071186  boy    J500\n",
        "1889  1889  John  0.071804  boy    J500"
       ]
      }
     ],
     "prompt_number": 57
    },
    {
     "cell_type": "code",
     "collapsed": false,
     "input": [
      "boys = boys.groupby('year').apply(get_max_record)[:10000]\n",
      "girls = girls.groupby('year').apply(get_max_record)[:10000]\n",
      "boys.prop.plot(label='boy')\n",
      "girls.prop.plot(label='girl')\n",
      "legend()\n",
      "\n",
      "\n"
     ],
     "language": "python",
     "metadata": {},
     "outputs": [
      {
       "metadata": {},
       "output_type": "pyout",
       "prompt_number": 210,
       "text": [
        "<matplotlib.legend.Legend at 0x110759ad0>"
       ]
      },
      {
       "metadata": {},
       "output_type": "display_data",
       "png": "[encoded data removed]",
       "text": [
        "<matplotlib.figure.Figure at 0x111452c90>"
       ]
      }
     ],
     "prompt_number": 210
    },
    {
     "cell_type": "code",
     "collapsed": false,
     "input": [
      "result.prop.plot()"
     ],
     "language": "python",
     "metadata": {},
     "outputs": [
      {
       "metadata": {},
       "output_type": "pyout",
       "prompt_number": 61,
       "text": [
        "<matplotlib.axes.AxesSubplot at 0x10c7d6b50>"
       ]
      },
      {
       "metadata": {},
       "output_type": "display_data",
       "png": "[encoded data removed]",
       "text": [
        "<matplotlib.figure.Figure at 0x10c3f8890>"
       ]
      }
     ],
     "prompt_number": 61
    },
    {
     "cell_type": "code",
     "collapsed": false,
     "input": [
      "boys = boys.groupby('year').apply(get_max_record)[:10000]\n"
     ],
     "language": "python",
     "metadata": {},
     "outputs": []
    },
    {
     "cell_type": "code",
     "collapsed": false,
     "input": [
      "# How popular is the name Travis over time\n",
      "boys[boys.name == 'Travis'][:10]"
     ],
     "language": "python",
     "metadata": {},
     "outputs": [
      {
       "metadata": {},
       "output_type": "pyout",
       "prompt_number": 64,
       "text": [
        "       year    name      prop  sex soundex\n",
        "563    1880  Travis  0.000101  boy    T612\n",
        "2648   1882  Travis  0.000082  boy    T612\n",
        "3672   1883  Travis  0.000080  boy    T612\n",
        "4656   1884  Travis  0.000081  boy    T612\n",
        "5602   1885  Travis  0.000095  boy    T612\n",
        "6598   1886  Travis  0.000092  boy    T612\n",
        "9871   1889  Travis  0.000059  boy    T612\n",
        "10733  1890  Travis  0.000075  boy    T612\n",
        "11696  1891  Travis  0.000082  boy    T612\n",
        "12593  1892  Travis  0.000099  boy    T612"
       ]
      }
     ],
     "prompt_number": 64
    },
    {
     "cell_type": "code",
     "collapsed": false,
     "input": [
      "# Create an indexed data frame by name and year\n",
      "# You can add index with the set_index function\n",
      "idf = boys.set_index(['name','year'])"
     ],
     "language": "python",
     "metadata": {},
     "outputs": [],
     "prompt_number": 65
    },
    {
     "cell_type": "code",
     "collapsed": false,
     "input": [
      "idf # Shows that it is a multi index data frame"
     ],
     "language": "python",
     "metadata": {},
     "outputs": [
      {
       "metadata": {},
       "output_type": "pyout",
       "prompt_number": 74,
       "text": [
        "<class 'pandas.core.frame.DataFrame'>\n",
        "MultiIndex: 129000 entries, (John, 1880) to (Yurem, 2008)\n",
        "Data columns (total 3 columns):\n",
        "prop       129000  non-null values\n",
        "sex        129000  non-null values\n",
        "soundex    129000  non-null values\n",
        "dtypes: float64(1), object(2)"
       ]
      }
     ],
     "prompt_number": 74
    },
    {
     "cell_type": "code",
     "collapsed": false,
     "input": [
      "idf.ix['John',1880]"
     ],
     "language": "python",
     "metadata": {},
     "outputs": [
      {
       "metadata": {},
       "output_type": "pyout",
       "prompt_number": 72,
       "text": [
        "prop       0.081541\n",
        "sex             boy\n",
        "soundex        J500\n",
        "Name: (John, 1880), dtype: object"
       ]
      }
     ],
     "prompt_number": 72
    },
    {
     "cell_type": "code",
     "collapsed": false,
     "input": [
      "idf[-20:] # Last 20 rows\n",
      "# Note that the name and the year column has been\n",
      "# Moved to the row index"
     ],
     "language": "python",
     "metadata": {},
     "outputs": [
      {
       "metadata": {},
       "output_type": "pyout",
       "prompt_number": 67,
       "text": [
        "                    prop  sex soundex\n",
        "name      year                       \n",
        "Jaylan    2008  0.000093  boy    J450\n",
        "Lennon    2008  0.000093  boy    L550\n",
        "Odin      2008  0.000093  boy    O350\n",
        "Abdiel    2008  0.000092  boy    A134\n",
        "Jerimiah  2008  0.000092  boy    J650\n",
        "Eliezer   2008  0.000092  boy    E426\n",
        "Bronson   2008  0.000091  boy    B652\n",
        "Cornelius 2008  0.000091  boy    C654\n",
        "Pierre    2008  0.000091  boy    P600\n",
        "Cortez    2008  0.000091  boy    C632\n",
        "Baron     2008  0.000090  boy    B650\n",
        "Carlo     2008  0.000090  boy    C640\n",
        "Carsen    2008  0.000090  boy    C625\n",
        "Fletcher  2008  0.000090  boy    F432\n",
        "Izayah    2008  0.000090  boy    I200\n",
        "Kolten    2008  0.000090  boy    K435\n",
        "Damari    2008  0.000089  boy    D560\n",
        "Hugh      2008  0.000089  boy    H200\n",
        "Jensen    2008  0.000089  boy    J525\n",
        "Yurem     2008  0.000089  boy    Y650"
       ]
      }
     ],
     "prompt_number": 67
    },
    {
     "cell_type": "code",
     "collapsed": false,
     "input": [
      "idf.ix['Travis'][:20]"
     ],
     "language": "python",
     "metadata": {},
     "outputs": [
      {
       "metadata": {},
       "output_type": "pyout",
       "prompt_number": 70,
       "text": [
        "          prop  sex soundex\n",
        "year                       \n",
        "1880  0.000101  boy    T612\n",
        "1882  0.000082  boy    T612\n",
        "1883  0.000080  boy    T612\n",
        "1884  0.000081  boy    T612\n",
        "1885  0.000095  boy    T612\n",
        "1886  0.000092  boy    T612\n",
        "1889  0.000059  boy    T612\n",
        "1890  0.000075  boy    T612\n",
        "1891  0.000082  boy    T612\n",
        "1892  0.000099  boy    T612\n",
        "1893  0.000066  boy    T612\n",
        "1894  0.000064  boy    T612\n",
        "1895  0.000079  boy    T612\n",
        "1896  0.000077  boy    T612\n",
        "1897  0.000098  boy    T612\n",
        "1898  0.000053  boy    T612\n",
        "1899  0.000095  boy    T612\n",
        "1900  0.000166  boy    T612\n",
        "1902  0.000121  boy    T612\n",
        "1903  0.000077  boy    T612"
       ]
      }
     ],
     "prompt_number": 70
    },
    {
     "cell_type": "code",
     "collapsed": false,
     "input": [
      "idf.ix['Travis'].prop.plot()"
     ],
     "language": "python",
     "metadata": {},
     "outputs": [
      {
       "metadata": {},
       "output_type": "pyout",
       "prompt_number": 71,
       "text": [
        "<matplotlib.axes.AxesSubplot at 0x10c79ee50>"
       ]
      },
      {
       "metadata": {},
       "output_type": "display_data",
       "png": "[encoded data removed]",
       "text": [
        "<matplotlib.figure.Figure at 0x10d1d8d50>"
       ]
      }
     ],
     "prompt_number": 71
    },
    {
     "cell_type": "code",
     "collapsed": false,
     "input": [
      "# The groupby encapsulates the groupby object\n",
      "# By adding ['prop'] we extract the prop column\n",
      "# From the groupby object\n",
      "boys.groupby('name')['prop']"
     ],
     "language": "python",
     "metadata": {},
     "outputs": [
      {
       "metadata": {},
       "output_type": "pyout",
       "prompt_number": 76,
       "text": [
        "<pandas.core.groupby.SeriesGroupBy object at 0x10c814ad0>"
       ]
      }
     ],
     "prompt_number": 76
    },
    {
     "cell_type": "code",
     "collapsed": false,
     "input": [
      "boys.groupby('name')['prop'].mean()[:10]"
     ],
     "language": "python",
     "metadata": {},
     "outputs": [
      {
       "metadata": {},
       "output_type": "pyout",
       "prompt_number": 78,
       "text": [
        "name\n",
        "Aaden       0.000442\n",
        "Aarav       0.000101\n",
        "Aaron       0.002266\n",
        "Ab          0.000044\n",
        "Abb         0.000046\n",
        "Abbie       0.000046\n",
        "Abbott      0.000044\n",
        "Abdiel      0.000092\n",
        "Abdul       0.000064\n",
        "Abdullah    0.000094\n",
        "Name: prop, dtype: float64"
       ]
      }
     ],
     "prompt_number": 78
    },
    {
     "cell_type": "code",
     "collapsed": false,
     "input": [
      "# Add order to sort\n",
      "boys.groupby('name')['prop'].mean().order()[:10]"
     ],
     "language": "python",
     "metadata": {},
     "outputs": [
      {
       "metadata": {},
       "output_type": "pyout",
       "prompt_number": 80,
       "text": [
        "name\n",
        "Danniel     0.000027\n",
        "Kennard     0.000027\n",
        "Deryl       0.000028\n",
        "Grayling    0.000028\n",
        "Michial     0.000028\n",
        "Cheryl      0.000028\n",
        "Dwyane      0.000028\n",
        "Levern      0.000029\n",
        "Diane       0.000029\n",
        "Randolf     0.000029\n",
        "Name: prop, dtype: float64"
       ]
      }
     ],
     "prompt_number": 80
    },
    {
     "cell_type": "code",
     "collapsed": false,
     "input": [
      "boys[boys.name == 'Travis'][:10]"
     ],
     "language": "python",
     "metadata": {},
     "outputs": [
      {
       "metadata": {},
       "output_type": "pyout",
       "prompt_number": 138,
       "text": [
        "       year    name      prop  sex soundex\n",
        "563    1880  Travis  0.000101  boy    T612\n",
        "2648   1882  Travis  0.000082  boy    T612\n",
        "3672   1883  Travis  0.000080  boy    T612\n",
        "4656   1884  Travis  0.000081  boy    T612\n",
        "5602   1885  Travis  0.000095  boy    T612\n",
        "6598   1886  Travis  0.000092  boy    T612\n",
        "9871   1889  Travis  0.000059  boy    T612\n",
        "10733  1890  Travis  0.000075  boy    T612\n",
        "11696  1891  Travis  0.000082  boy    T612\n",
        "12593  1892  Travis  0.000099  boy    T612"
       ]
      }
     ],
     "prompt_number": 138
    },
    {
     "cell_type": "code",
     "collapsed": false,
     "input": [
      "boys.groupby('year')['prop']"
     ],
     "language": "python",
     "metadata": {},
     "outputs": [
      {
       "metadata": {},
       "output_type": "pyout",
       "prompt_number": 140,
       "text": [
        "<pandas.core.groupby.SeriesGroupBy object at 0x110783790>"
       ]
      }
     ],
     "prompt_number": 140
    },
    {
     "cell_type": "code",
     "collapsed": false,
     "input": [
      "boys.groupby('name')['prop'].describe()"
     ],
     "language": "python",
     "metadata": {},
     "outputs": [
      {
       "metadata": {},
       "output_type": "pyout",
       "prompt_number": 141,
       "text": [
        "name        \n",
        "Aaden  count    1.000000\n",
        "       mean     0.000442\n",
        "       std           NaN\n",
        "       min      0.000442\n",
        "       25%      0.000442\n",
        "       50%      0.000442\n",
        "       75%      0.000442\n",
        "       max      0.000442\n",
        "Aarav  count    1.000000\n",
        "       mean     0.000101\n",
        "       std           NaN\n",
        "       min      0.000101\n",
        "       25%      0.000101\n",
        "       50%      0.000101\n",
        "       75%      0.000101\n",
        "...\n",
        "Zion    mean     0.000490\n",
        "        std      0.000165\n",
        "        min      0.000119\n",
        "        25%      0.000419\n",
        "        50%      0.000482\n",
        "        75%      0.000558\n",
        "        max      0.000731\n",
        "Zollie  count    8.000000\n",
        "        mean     0.000060\n",
        "        std      0.000012\n",
        "        min      0.000049\n",
        "        25%      0.000054\n",
        "        50%      0.000055\n",
        "        75%      0.000061\n",
        "        max      0.000087\n",
        "Length: 27496, dtype: float64"
       ]
      }
     ],
     "prompt_number": 141
    },
    {
     "cell_type": "code",
     "collapsed": false,
     "input": [
      "result = boys.groupby('year')['prop'].describe()\n",
      "result[:20]"
     ],
     "language": "python",
     "metadata": {},
     "outputs": [
      {
       "metadata": {},
       "output_type": "pyout",
       "prompt_number": 142,
       "text": [
        "year       \n",
        "1880  count    1000.000000\n",
        "      mean        0.000931\n",
        "      std         0.004871\n",
        "      min         0.000042\n",
        "      25%         0.000059\n",
        "      50%         0.000118\n",
        "      75%         0.000372\n",
        "      max         0.081541\n",
        "1881  count    1000.000000\n",
        "      mean        0.000930\n",
        "      std         0.004812\n",
        "      min         0.000037\n",
        "      25%         0.000065\n",
        "      50%         0.000120\n",
        "      75%         0.000369\n",
        "      max         0.080975\n",
        "1882  count    1000.000000\n",
        "      mean        0.000928\n",
        "      std         0.004691\n",
        "      min         0.000041\n",
        "dtype: float64"
       ]
      }
     ],
     "prompt_number": 142
    },
    {
     "cell_type": "code",
     "collapsed": false,
     "input": [
      "boys['prop'].describe()"
     ],
     "language": "python",
     "metadata": {},
     "outputs": [
      {
       "metadata": {},
       "output_type": "pyout",
       "prompt_number": 82,
       "text": [
        "count    129000.000000\n",
        "mean          0.000916\n",
        "std           0.003441\n",
        "min           0.000026\n",
        "25%           0.000071\n",
        "50%           0.000142\n",
        "75%           0.000453\n",
        "max           0.081541\n",
        "dtype: float64"
       ]
      }
     ],
     "prompt_number": 82
    },
    {
     "cell_type": "code",
     "collapsed": false,
     "input": [
      "# Diversity of names\n",
      "# Taking a single year worth of data\n",
      "boys = names[names.sex == 'boy']\n",
      "\n",
      "boys[boys.year == 2008]"
     ],
     "language": "python",
     "metadata": {},
     "outputs": [
      {
       "metadata": {},
       "output_type": "pyout",
       "prompt_number": 218,
       "text": [
        "<class 'pandas.core.frame.DataFrame'>\n",
        "Int64Index: 1000 entries, 128000 to 128999\n",
        "Data columns (total 5 columns):\n",
        "year       1000  non-null values\n",
        "name       1000  non-null values\n",
        "prop       1000  non-null values\n",
        "sex        1000  non-null values\n",
        "soundex    1000  non-null values\n",
        "dtypes: float64(1), int64(1), object(3)"
       ]
      }
     ],
     "prompt_number": 218
    },
    {
     "cell_type": "code",
     "collapsed": false,
     "input": [
      "df = boys[boys.year == 2008].sort_index(by='prop')"
     ],
     "language": "python",
     "metadata": {},
     "outputs": [],
     "prompt_number": 219
    },
    {
     "cell_type": "code",
     "collapsed": false,
     "input": [
      "df['prop'].order()[:10]"
     ],
     "language": "python",
     "metadata": {},
     "outputs": [
      {
       "metadata": {},
       "output_type": "pyout",
       "prompt_number": 220,
       "text": [
        "128999    0.000089\n",
        "128996    0.000089\n",
        "128998    0.000089\n",
        "128997    0.000089\n",
        "128990    0.000090\n",
        "128991    0.000090\n",
        "128995    0.000090\n",
        "128993    0.000090\n",
        "128994    0.000090\n",
        "128992    0.000090\n",
        "Name: prop, dtype: float64"
       ]
      }
     ],
     "prompt_number": 220
    },
    {
     "cell_type": "code",
     "collapsed": false,
     "input": [
      "df = boys[boys.year == 2008].sort_index(by = 'prop', ascending = 'False')\n",
      "df.prop.cumsum()[:10]"
     ],
     "language": "python",
     "metadata": {},
     "outputs": [
      {
       "metadata": {},
       "output_type": "pyout",
       "prompt_number": 221,
       "text": [
        "128999    0.000089\n",
        "128996    0.000178\n",
        "128998    0.000267\n",
        "128997    0.000356\n",
        "128990    0.000446\n",
        "128991    0.000536\n",
        "128995    0.000626\n",
        "128993    0.000716\n",
        "128994    0.000806\n",
        "128992    0.000896\n",
        "dtype: float64"
       ]
      }
     ],
     "prompt_number": 221
    },
    {
     "cell_type": "code",
     "collapsed": false,
     "input": [
      "boys.groupby('year').size()[:10]"
     ],
     "language": "python",
     "metadata": {},
     "outputs": [
      {
       "metadata": {},
       "output_type": "pyout",
       "prompt_number": 222,
       "text": [
        "year\n",
        "1880    1000\n",
        "1881    1000\n",
        "1882    1000\n",
        "1883    1000\n",
        "1884    1000\n",
        "1885    1000\n",
        "1886    1000\n",
        "1887    1000\n",
        "1888    1000\n",
        "1889    1000\n",
        "dtype: int64"
       ]
      }
     ],
     "prompt_number": 222
    },
    {
     "cell_type": "code",
     "collapsed": false,
     "input": [
      "df = boys[boys.year == 1880]\n",
      "df.prop.cumsum().searchsorted(0.5)\n",
      "# Means that the top 15 names accounted for 50%\n",
      "# of the babies names in the US"
     ],
     "language": "python",
     "metadata": {},
     "outputs": [
      {
       "metadata": {},
       "output_type": "pyout",
       "prompt_number": 223,
       "text": [
        "15"
       ]
      }
     ],
     "prompt_number": 223
    },
    {
     "cell_type": "code",
     "collapsed": false,
     "input": [
      "df = boys[boys.year == 2008]\n",
      "df.prop[:10]\n"
     ],
     "language": "python",
     "metadata": {},
     "outputs": [
      {
       "metadata": {},
       "output_type": "pyout",
       "prompt_number": 224,
       "text": [
        "128000    0.010355\n",
        "128001    0.009437\n",
        "128002    0.009301\n",
        "128003    0.008799\n",
        "128004    0.008702\n",
        "128005    0.008566\n",
        "128006    0.008442\n",
        "128007    0.008438\n",
        "128008    0.008268\n",
        "128009    0.008061\n",
        "Name: prop, dtype: float64"
       ]
      }
     ],
     "prompt_number": 224
    },
    {
     "cell_type": "code",
     "collapsed": false,
     "input": [
      "boys[boys.year == 2008][:10]"
     ],
     "language": "python",
     "metadata": {},
     "outputs": [
      {
       "metadata": {},
       "output_type": "pyout",
       "prompt_number": 225,
       "text": [
        "        year         name      prop  sex soundex\n",
        "128000  2008        Jacob  0.010355  boy    J210\n",
        "128001  2008      Michael  0.009437  boy    M240\n",
        "128002  2008        Ethan  0.009301  boy    E350\n",
        "128003  2008       Joshua  0.008799  boy    J200\n",
        "128004  2008       Daniel  0.008702  boy    D540\n",
        "128005  2008    Alexander  0.008566  boy    A425\n",
        "128006  2008      Anthony  0.008442  boy    A535\n",
        "128007  2008      William  0.008438  boy    W450\n",
        "128008  2008  Christopher  0.008268  boy    C623\n",
        "128009  2008      Matthew  0.008061  boy    M300"
       ]
      }
     ],
     "prompt_number": 225
    },
    {
     "cell_type": "code",
     "collapsed": false,
     "input": [
      "df = boys[boys.year == 2008]\n",
      "df.prop.cumsum().searchsorted(0.5)"
     ],
     "language": "python",
     "metadata": {},
     "outputs": [
      {
       "metadata": {},
       "output_type": "pyout",
       "prompt_number": 226,
       "text": [
        "127"
       ]
      }
     ],
     "prompt_number": 226
    },
    {
     "cell_type": "code",
     "collapsed": false,
     "input": [
      "df = boys[boys.year == 2008]\n",
      "df.prop.cumsum().searchsorted(0.5)\n",
      "df.prop.cumsum()[:10]"
     ],
     "language": "python",
     "metadata": {},
     "outputs": [
      {
       "metadata": {},
       "output_type": "pyout",
       "prompt_number": 227,
       "text": [
        "128000    0.010355\n",
        "128001    0.019792\n",
        "128002    0.029093\n",
        "128003    0.037892\n",
        "128004    0.046594\n",
        "128005    0.055160\n",
        "128006    0.063602\n",
        "128007    0.072040\n",
        "128008    0.080308\n",
        "128009    0.088369\n",
        "dtype: float64"
       ]
      }
     ],
     "prompt_number": 227
    },
    {
     "cell_type": "code",
     "collapsed": false,
     "input": [
      "# Create a function to find the above for every year\n",
      "\n",
      "def get_quantile_count(group, quantile = 0.5):\n",
      "    return df.prop.cumsum().searchsorted(quantile)\n",
      "\n"
     ],
     "language": "python",
     "metadata": {},
     "outputs": [],
     "prompt_number": 228
    },
    {
     "cell_type": "code",
     "collapsed": false,
     "input": [
      "boys.groupby('year').apply(get_quantile_count)[:10]"
     ],
     "language": "python",
     "metadata": {},
     "outputs": [
      {
       "metadata": {},
       "output_type": "pyout",
       "prompt_number": 229,
       "text": [
        "year\n",
        "1880    127\n",
        "1881    127\n",
        "1882    127\n",
        "1883    127\n",
        "1884    127\n",
        "1885    127\n",
        "1886    127\n",
        "1887    127\n",
        "1888    127\n",
        "1889    127\n",
        "dtype: int64"
       ]
      }
     ],
     "prompt_number": 229
    },
    {
     "cell_type": "code",
     "collapsed": false,
     "input": [
      "# Create a function to find the above for every year\n",
      "\n",
      "def get_quantile_count(group, quantile=0.5):\n",
      "    group = group.groupby('soundex').sum()\n",
      "    df = group.sort_index(by = 'prop', ascending='False')\n",
      "    return df.prop.cumsum().searchsorted(quantile)\n"
     ],
     "language": "python",
     "metadata": {},
     "outputs": [],
     "prompt_number": 230
    },
    {
     "cell_type": "code",
     "collapsed": false,
     "input": [
      "boys.groupby('year').apply(get_quantile_count).plot()"
     ],
     "language": "python",
     "metadata": {},
     "outputs": [
      {
       "metadata": {},
       "output_type": "pyout",
       "prompt_number": 231,
       "text": [
        "<matplotlib.axes.AxesSubplot at 0x11072bb10>"
       ]
      },
      {
       "metadata": {},
       "output_type": "display_data",
       "png": "[encoded data removed]",
       "text": [
        "<matplotlib.figure.Figure at 0x11073e610>"
       ]
      }
     ],
     "prompt_number": 231
    },
    {
     "cell_type": "code",
     "collapsed": false,
     "input": [
      "boys = names[names.sex == 'boy']\n",
      "boys[boys.year == 2008]"
     ],
     "language": "python",
     "metadata": {},
     "outputs": [
      {
       "metadata": {},
       "output_type": "pyout",
       "prompt_number": 232,
       "text": [
        "<class 'pandas.core.frame.DataFrame'>\n",
        "Int64Index: 1000 entries, 128000 to 128999\n",
        "Data columns (total 5 columns):\n",
        "year       1000  non-null values\n",
        "name       1000  non-null values\n",
        "prop       1000  non-null values\n",
        "sex        1000  non-null values\n",
        "soundex    1000  non-null values\n",
        "dtypes: float64(1), int64(1), object(3)"
       ]
      }
     ],
     "prompt_number": 232
    },
    {
     "cell_type": "code",
     "collapsed": false,
     "input": [
      "boys[boys.year == 2008].prop.rank()"
     ],
     "language": "python",
     "metadata": {},
     "outputs": [
      {
       "metadata": {},
       "output_type": "pyout",
       "prompt_number": 234,
       "text": [
        "128000    1000\n",
        "128001     999\n",
        "128002     998\n",
        "128003     997\n",
        "128004     996\n",
        "128005     995\n",
        "128006     994\n",
        "128007     993\n",
        "128008     992\n",
        "128009     991\n",
        "128010     990\n",
        "128011     989\n",
        "128012     988\n",
        "128013     987\n",
        "128014     986\n",
        "...\n",
        "128985    16.0\n",
        "128986    12.5\n",
        "128987    12.5\n",
        "128988    12.5\n",
        "128989    12.5\n",
        "128990     7.5\n",
        "128991     7.5\n",
        "128992     7.5\n",
        "128993     7.5\n",
        "128994     7.5\n",
        "128995     7.5\n",
        "128996     2.5\n",
        "128997     2.5\n",
        "128998     2.5\n",
        "128999     2.5\n",
        "Name: prop, Length: 1000, dtype: float64"
       ]
      }
     ],
     "prompt_number": 234
    },
    {
     "cell_type": "code",
     "collapsed": false,
     "input": [
      "boys.groupby('year')"
     ],
     "language": "python",
     "metadata": {},
     "outputs": [
      {
       "metadata": {},
       "output_type": "pyout",
       "prompt_number": 235,
       "text": [
        "<pandas.core.groupby.DataFrameGroupBy object at 0x10c6a54d0>"
       ]
      }
     ],
     "prompt_number": 235
    },
    {
     "cell_type": "code",
     "collapsed": false,
     "input": [
      "grouped = boys.groupby('year')\n",
      "grouped"
     ],
     "language": "python",
     "metadata": {},
     "outputs": [
      {
       "metadata": {},
       "output_type": "pyout",
       "prompt_number": 236,
       "text": [
        "<pandas.core.groupby.DataFrameGroupBy object at 0x1109dc690>"
       ]
      }
     ],
     "prompt_number": 236
    },
    {
     "cell_type": "code",
     "collapsed": false,
     "input": [
      "# Transform is very rigid\n",
      "# Expects the result to be of the same size\n",
      "\n",
      "grouped.transform(Series.rank)[:10]\n",
      "                  \n",
      "                  "
     ],
     "language": "python",
     "metadata": {},
     "outputs": [
      {
       "metadata": {},
       "output_type": "pyout",
       "prompt_number": 239,
       "text": [
        "   name  prop    sex  soundex\n",
        "0   565  1000  500.5    576.0\n",
        "1   980   999  500.5    979.0\n",
        "2   541   998  500.5    584.0\n",
        "3   184   997  500.5    236.5\n",
        "4   417   996  500.5    432.0\n",
        "5   395   995  500.5    398.0\n",
        "6   576   994  500.5    552.0\n",
        "7   911   993  500.5    920.5\n",
        "8   476   992  500.5    485.0\n",
        "9   833   991  500.5    823.5"
       ]
      }
     ],
     "prompt_number": 239
    },
    {
     "cell_type": "code",
     "collapsed": false,
     "input": [
      "# Adding the transformed column to the data frame\n",
      "grouped = boys.groupby('year')['prop']\n",
      "\n",
      "boys['year_rank'] = grouped.transform(Series.rank)\n"
     ],
     "language": "python",
     "metadata": {},
     "outputs": [],
     "prompt_number": 248
    },
    {
     "cell_type": "code",
     "collapsed": false,
     "input": [
      "boys[boys.name == 'Wesley'].year_rank.plot()"
     ],
     "language": "python",
     "metadata": {},
     "outputs": [
      {
       "metadata": {},
       "output_type": "pyout",
       "prompt_number": 249,
       "text": [
        "<matplotlib.axes.AxesSubplot at 0x110e5a790>"
       ]
      },
      {
       "metadata": {},
       "output_type": "display_data",
       "png": "[encoded data removed]",
       "text": [
        "<matplotlib.figure.Figure at 0x111470690>"
       ]
      }
     ],
     "prompt_number": 249
    },
    {
     "cell_type": "code",
     "collapsed": false,
     "input": [
      "# Set Index of the data frame to name, year\n",
      "# (See below ... (John, 1880), (Yurem, 2008), etc\n",
      "idf = boys.set_index(['name','year'])\n",
      "idf\n",
      "idf.ix['Wesley'].year_rank.plot()\n"
     ],
     "language": "python",
     "metadata": {},
     "outputs": [
      {
       "metadata": {},
       "output_type": "pyout",
       "prompt_number": 247,
       "text": [
        "<matplotlib.axes.AxesSubplot at 0x10fdb0cd0>"
       ]
      },
      {
       "metadata": {},
       "output_type": "display_data",
       "png": "[encoded data removed]",
       "text": [
        "<matplotlib.figure.Figure at 0x110e66b90>"
       ]
      }
     ],
     "prompt_number": 247
    },
    {
     "cell_type": "code",
     "collapsed": false,
     "input": [
      "births = read_csv('births.csv')"
     ],
     "language": "python",
     "metadata": {},
     "outputs": [],
     "prompt_number": 250
    },
    {
     "cell_type": "code",
     "collapsed": false,
     "input": [
      "names"
     ],
     "language": "python",
     "metadata": {},
     "outputs": [
      {
       "metadata": {},
       "output_type": "pyout",
       "prompt_number": 251,
       "text": [
        "<class 'pandas.core.frame.DataFrame'>\n",
        "Int64Index: 258000 entries, 0 to 257999\n",
        "Data columns (total 5 columns):\n",
        "year       258000  non-null values\n",
        "name       258000  non-null values\n",
        "prop       258000  non-null values\n",
        "sex        258000  non-null values\n",
        "soundex    258000  non-null values\n",
        "dtypes: float64(1), int64(1), object(3)"
       ]
      }
     ],
     "prompt_number": 251
    },
    {
     "cell_type": "code",
     "collapsed": false,
     "input": [
      "# We have the proportions of the names\n",
      "# But not the number of people\n",
      "# We will use the births data to perform a join"
     ],
     "language": "python",
     "metadata": {},
     "outputs": []
    },
    {
     "cell_type": "code",
     "collapsed": false,
     "input": [
      "# We will use the merge function\n",
      "# It is very similar to R\n",
      "\n",
      "# Both names and births have the year and sex columns\n",
      "merge(names, births, on = ['year', 'sex'])"
     ],
     "language": "python",
     "metadata": {},
     "outputs": [
      {
       "metadata": {},
       "output_type": "pyout",
       "prompt_number": 253,
       "text": [
        "<class 'pandas.core.frame.DataFrame'>\n",
        "Int64Index: 258000 entries, 0 to 257999\n",
        "Data columns (total 6 columns):\n",
        "year       258000  non-null values\n",
        "name       258000  non-null values\n",
        "prop       258000  non-null values\n",
        "sex        258000  non-null values\n",
        "soundex    258000  non-null values\n",
        "births     258000  non-null values\n",
        "dtypes: float64(1), int64(2), object(3)"
       ]
      }
     ],
     "prompt_number": 253
    },
    {
     "cell_type": "code",
     "collapsed": false,
     "input": [
      "# If you do not specify the merge keys\n",
      "# It will use the intersect of the columns to perform the merge\n",
      "merge(names, births)"
     ],
     "language": "python",
     "metadata": {},
     "outputs": [
      {
       "metadata": {},
       "output_type": "pyout",
       "prompt_number": 254,
       "text": [
        "<class 'pandas.core.frame.DataFrame'>\n",
        "Int64Index: 258000 entries, 0 to 257999\n",
        "Data columns (total 6 columns):\n",
        "year       258000  non-null values\n",
        "name       258000  non-null values\n",
        "prop       258000  non-null values\n",
        "sex        258000  non-null values\n",
        "soundex    258000  non-null values\n",
        "births     258000  non-null values\n",
        "dtypes: float64(1), int64(2), object(3)"
       ]
      }
     ],
     "prompt_number": 254
    },
    {
     "cell_type": "code",
     "collapsed": false,
     "input": [
      "# Get the total number of people\n",
      "merged = merge(names, births)\n",
      "merged['persons'] = np.floor(merged.prop * merged.births)"
     ],
     "language": "python",
     "metadata": {},
     "outputs": [],
     "prompt_number": 260
    },
    {
     "cell_type": "code",
     "collapsed": false,
     "input": [
      "merged.head()"
     ],
     "language": "python",
     "metadata": {},
     "outputs": [
      {
       "metadata": {},
       "output_type": "pyout",
       "prompt_number": 261,
       "text": [
        "   year     name      prop  sex soundex  births  persons\n",
        "0  1880     John  0.081541  boy    J500  118405     9654\n",
        "1  1880  William  0.080511  boy    W450  118405     9532\n",
        "2  1880    James  0.050057  boy    J520  118405     5926\n",
        "3  1880  Charles  0.045167  boy    C642  118405     5347\n",
        "4  1880   George  0.043292  boy    G620  118405     5125"
       ]
      }
     ],
     "prompt_number": 261
    },
    {
     "cell_type": "code",
     "collapsed": false,
     "input": [
      "merged.groupby(['name','sex'])['persons'].sum()[:10]"
     ],
     "language": "python",
     "metadata": {},
     "outputs": [
      {
       "metadata": {},
       "output_type": "pyout",
       "prompt_number": 262,
       "text": [
        "name     sex \n",
        "Aaden    boy        959\n",
        "Aaliyah  girl     39660\n",
        "Aarav    boy        219\n",
        "Aaron    boy     508034\n",
        "         girl      1365\n",
        "Ab       boy         24\n",
        "Abagail  girl      2680\n",
        "Abb      boy         15\n",
        "Abbey    girl     14333\n",
        "Abbie    boy         10\n",
        "Name: persons, dtype: float64"
       ]
      }
     ],
     "prompt_number": 262
    },
    {
     "cell_type": "code",
     "collapsed": false,
     "input": [
      "merged.groupby(['name','sex'])['persons'].sum().order()"
     ],
     "language": "python",
     "metadata": {},
     "outputs": [
      {
       "metadata": {},
       "output_type": "pyout",
       "prompt_number": 263,
       "text": [
        "name      sex \n",
        "Achsah    girl    3\n",
        "Ala       girl    3\n",
        "Alabama   girl    3\n",
        "Alfred    girl    3\n",
        "Amey      girl    3\n",
        "Chester   girl    3\n",
        "Chestina  girl    3\n",
        "Clem      girl    3\n",
        "Crissie   girl    3\n",
        "Daisye    girl    3\n",
        "Dema      girl    3\n",
        "Dollye    girl    3\n",
        "Eithel    girl    3\n",
        "Abie      boy     4\n",
        "Acey      boy     4\n",
        "...\n",
        "Elizabeth    girl    1540430\n",
        "Patricia     girl    1567602\n",
        "Daniel       boy     1776483\n",
        "Christopher  boy     1924919\n",
        "Thomas       boy     2239606\n",
        "Charles      boy     2320818\n",
        "Joseph       boy     2490274\n",
        "Richard      boy     2535681\n",
        "David        boy     3495940\n",
        "William      boy     3951365\n",
        "Mary         girl    4097626\n",
        "Michael      boy     4207352\n",
        "Robert       boy     4752198\n",
        "John         boy     5016124\n",
        "James        boy     5021269\n",
        "Name: persons, Length: 7455, dtype: float64"
       ]
      }
     ],
     "prompt_number": 263
    },
    {
     "cell_type": "code",
     "collapsed": false,
     "input": [
      "# Take the year and name column and move it to the index\n",
      "merged.set_index(['year', 'name'])"
     ],
     "language": "python",
     "metadata": {},
     "outputs": [
      {
       "metadata": {},
       "output_type": "pyout",
       "prompt_number": 264,
       "text": [
        "<class 'pandas.core.frame.DataFrame'>\n",
        "MultiIndex: 258000 entries, (1880, John) to (2008, Elianna)\n",
        "Data columns (total 5 columns):\n",
        "prop       258000  non-null values\n",
        "sex        258000  non-null values\n",
        "soundex    258000  non-null values\n",
        "births     258000  non-null values\n",
        "persons    258000  non-null values\n",
        "dtypes: float64(2), int64(1), object(2)"
       ]
      }
     ],
     "prompt_number": 264
    },
    {
     "cell_type": "code",
     "collapsed": false,
     "input": [
      "mboys = merge(boys, births)\n",
      "mboys['persons'] = np.floor(mboys.prop * mboys.births)\n",
      "\n",
      "# Extract the persons which is the count created above\n",
      "# As a Series\n",
      "persons = mboys.set_index(['year', 'name']).persons"
     ],
     "language": "python",
     "metadata": {},
     "outputs": [],
     "prompt_number": 272
    },
    {
     "cell_type": "code",
     "collapsed": false,
     "input": [
      "type(persons)"
     ],
     "language": "python",
     "metadata": {},
     "outputs": [
      {
       "metadata": {},
       "output_type": "pyout",
       "prompt_number": 273,
       "text": [
        "pandas.core.series.Series"
       ]
      }
     ],
     "prompt_number": 273
    },
    {
     "cell_type": "code",
     "collapsed": false,
     "input": [
      "persons[:5]"
     ],
     "language": "python",
     "metadata": {},
     "outputs": [
      {
       "metadata": {},
       "output_type": "pyout",
       "prompt_number": 275,
       "text": [
        "year  name   \n",
        "1880  John       9654\n",
        "      William    9532\n",
        "      James      5926\n",
        "      Charles    5347\n",
        "      George     5125\n",
        "Name: persons, dtype: float64"
       ]
      }
     ],
     "prompt_number": 275
    },
    {
     "cell_type": "code",
     "collapsed": false,
     "input": [
      "persons.ix[:,'Christopher'].plot(kind='bar', rot=90)"
     ],
     "language": "python",
     "metadata": {},
     "outputs": [
      {
       "metadata": {},
       "output_type": "pyout",
       "prompt_number": 278,
       "text": [
        "<matplotlib.axes.AxesSubplot at 0x110754150>"
       ]
      },
      {
       "metadata": {},
       "output_type": "display_data",
       "png": "[encoded data removed]",
       "text": [
        "<matplotlib.figure.Figure at 0x10fe0bd90>"
       ]
      }
     ],
     "prompt_number": 278
    },
    {
     "cell_type": "code",
     "collapsed": false,
     "input": [
      "# Pivot to create columns which are names\n",
      "# With the count of the names observed\n",
      "result = persons.unstack('name')\n",
      "result"
     ],
     "language": "python",
     "metadata": {},
     "outputs": [
      {
       "metadata": {},
       "output_type": "pyout",
       "prompt_number": 282,
       "text": [
        "<class 'pandas.core.frame.DataFrame'>\n",
        "Int64Index: 129 entries, 1880 to 2008\n",
        "Columns: 3437 entries, Aaden to Zollie\n",
        "dtypes: float64(3437)"
       ]
      }
     ],
     "prompt_number": 282
    },
    {
     "cell_type": "code",
     "collapsed": false,
     "input": [
      "# Use _ to get the output of the last command\n",
      "_"
     ],
     "language": "python",
     "metadata": {},
     "outputs": [
      {
       "metadata": {},
       "output_type": "pyout",
       "prompt_number": 283,
       "text": [
        "<class 'pandas.core.frame.DataFrame'>\n",
        "Int64Index: 129 entries, 1880 to 2008\n",
        "Columns: 3437 entries, Aaden to Zollie\n",
        "dtypes: float64(3437)"
       ]
      }
     ],
     "prompt_number": 283
    },
    {
     "cell_type": "code",
     "collapsed": false,
     "input": [
      "# Number of Wesly by Year\n",
      "result['Wesley'][:5]"
     ],
     "language": "python",
     "metadata": {},
     "outputs": [
      {
       "metadata": {},
       "output_type": "pyout",
       "prompt_number": 285,
       "text": [
        "year\n",
        "1880    123\n",
        "1881    102\n",
        "1882    144\n",
        "1883    104\n",
        "1884    120\n",
        "Name: Wesley, dtype: float64"
       ]
      }
     ],
     "prompt_number": 285
    },
    {
     "cell_type": "code",
     "collapsed": false,
     "input": [
      "result['Wesley'].plot()"
     ],
     "language": "python",
     "metadata": {},
     "outputs": [
      {
       "metadata": {},
       "output_type": "pyout",
       "prompt_number": 286,
       "text": [
        "<matplotlib.axes.AxesSubplot at 0x116dd9190>"
       ]
      },
      {
       "metadata": {},
       "output_type": "display_data",
       "png": "[encoded data removed]",
       "text": [
        "<matplotlib.figure.Figure at 0x10fe23dd0>"
       ]
      }
     ],
     "prompt_number": 286
    },
    {
     "cell_type": "code",
     "collapsed": false,
     "input": [],
     "language": "python",
     "metadata": {},
     "outputs": []
    }
   ],
   "metadata": {}
  }
 ]
}