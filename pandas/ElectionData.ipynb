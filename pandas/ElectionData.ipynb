{
 "metadata": {
  "name": ""
 },
 "nbformat": 3,
 "nbformat_minor": 0,
 "worksheets": [
  {
   "cells": [
    {
     "cell_type": "code",
     "collapsed": true,
     "input": [
      "from pandas import *\n",
      "import matplotlib as mpl\n",
      "mpl.rc('figure', figsize=(12, 6))\n",
      "set_printoptions(max_columns=18)\n",
      "months = {'JAN' : 1, 'FEB' : 2, 'MAR' : 3, 'APR' : 4, 'MAY' : 5, 'JUN' : 6,\n",
      "          'JUL' : 7, 'AUG' : 8, 'SEP' : 9, 'OCT': 10, 'NOV': 11, 'DEC' : 12}\n",
      "of_interest = ['Obama, Barack', 'Romney, Mitt', 'Santorum, Rick', \n",
      "               'Paul, Ron', 'Gingrich, Newt']\n",
      "parties = {\n",
      "  'Bachmann, Michelle': 'Republican',\n",
      "  'Romney, Mitt': 'Republican',\n",
      "  'Obama, Barack': 'Democrat',\n",
      "  \"Roemer, Charles E. 'Buddy' III\": 'Reform',\n",
      "  'Pawlenty, Timothy': 'Republican',\n",
      "  'Johnson, Gary Earl': 'Libertarian',\n",
      "  'Paul, Ron': 'Republican',\n",
      "  'Santorum, Rick': 'Republican',\n",
      "  'Cain, Herman': 'Republican',\n",
      "  'Gingrich, Newt': 'Republican',\n",
      "  'McCotter, Thaddeus G': 'Republican',\n",
      "  'Huntsman, Jon': 'Republican',\n",
      "  'Perry, Rick': 'Republican'           \n",
      " }"
     ],
     "language": "python",
     "metadata": {},
     "outputs": [
      {
       "output_type": "stream",
       "stream": "stderr",
       "text": [
        "/usr/local/Cellar/python/2.7.5/Frameworks/Python.framework/Versions/2.7/lib/python2.7/site-packages/pandas/core/format.py:1653: FutureWarning: set_printoptions is deprecated, use set_option instead\n",
        "  FutureWarning)\n"
       ]
      }
     ],
     "prompt_number": 1
    },
    {
     "cell_type": "code",
     "collapsed": true,
     "input": [
      "fec = read_csv('P00000001-ALL.txt')"
     ],
     "language": "python",
     "metadata": {},
     "outputs": [],
     "prompt_number": 2
    },
    {
     "cell_type": "code",
     "collapsed": false,
     "input": [
      "fec.contb_receipt_dt[0]"
     ],
     "language": "python",
     "metadata": {},
     "outputs": [
      {
       "metadata": {},
       "output_type": "pyout",
       "prompt_number": 16,
       "text": [
        "'20-JUN-11'"
       ]
      }
     ],
     "prompt_number": 16
    },
    {
     "cell_type": "code",
     "collapsed": false,
     "input": [
      "# We have to convert the date strings into datetime\n",
      "def convert_date(val):\n",
      "    d,m,y = val.split('-')\n",
      "    m = months[m]\n",
      "    return datetime (int('20' + y),m, int(d))\n",
      "\n",
      "convert_date(fec.contb_receipt_dt[0])"
     ],
     "language": "python",
     "metadata": {},
     "outputs": [
      {
       "metadata": {},
       "output_type": "pyout",
       "prompt_number": 18,
       "text": [
        "datetime.datetime(2011, 6, 20, 0, 0)"
       ]
      }
     ],
     "prompt_number": 18
    },
    {
     "cell_type": "code",
     "collapsed": false,
     "input": [
      "fec['contb_receipt_dt'] = fec.contb_receipt_dt.map(convert_date)"
     ],
     "language": "python",
     "metadata": {},
     "outputs": [],
     "prompt_number": 21
    },
    {
     "cell_type": "code",
     "collapsed": false,
     "input": [
      "fec"
     ],
     "language": "python",
     "metadata": {},
     "outputs": [
      {
       "html": [
        "<pre>\n",
        "&lt;class 'pandas.core.frame.DataFrame'&gt;\n",
        "Int64Index: 536041 entries, 0 to 536040\n",
        "Data columns (total 17 columns):\n",
        "cmte_id              536041  non-null values\n",
        "cand_id              536041  non-null values\n",
        "cand_nm              536041  non-null values\n",
        "contbr_nm            536041  non-null values\n",
        "contbr_city          536026  non-null values\n",
        "contbr_st            536040  non-null values\n",
        "contbr_zip           535973  non-null values\n",
        "contbr_employer      531417  non-null values\n",
        "contbr_occupation    531448  non-null values\n",
        "contb_receipt_amt    536041  non-null values\n",
        "contb_receipt_dt     536041  non-null values\n",
        "receipt_desc         8479  non-null values\n",
        "memo_cd              49718  non-null values\n",
        "memo_text            52740  non-null values\n",
        "form_tp              536041  non-null values\n",
        "file_num             536041  non-null values\n",
        "party                536041  non-null values\n",
        "dtypes: float64(1), int64(1), object(15)\n",
        "</pre>"
       ],
       "metadata": {},
       "output_type": "pyout",
       "prompt_number": 20,
       "text": [
        "<class 'pandas.core.frame.DataFrame'>\n",
        "Int64Index: 536041 entries, 0 to 536040\n",
        "Data columns (total 17 columns):\n",
        "cmte_id              536041  non-null values\n",
        "cand_id              536041  non-null values\n",
        "cand_nm              536041  non-null values\n",
        "contbr_nm            536041  non-null values\n",
        "contbr_city          536026  non-null values\n",
        "contbr_st            536040  non-null values\n",
        "contbr_zip           535973  non-null values\n",
        "contbr_employer      531417  non-null values\n",
        "contbr_occupation    531448  non-null values\n",
        "contb_receipt_amt    536041  non-null values\n",
        "contb_receipt_dt     536041  non-null values\n",
        "receipt_desc         8479  non-null values\n",
        "memo_cd              49718  non-null values\n",
        "memo_text            52740  non-null values\n",
        "form_tp              536041  non-null values\n",
        "file_num             536041  non-null values\n",
        "party                536041  non-null values\n",
        "dtypes: float64(1), int64(1), object(15)"
       ]
      }
     ],
     "prompt_number": 20
    },
    {
     "cell_type": "code",
     "collapsed": true,
     "input": [
      "# We have the candidate names\n",
      "fec.cand_nm[:5]"
     ],
     "language": "python",
     "metadata": {},
     "outputs": [
      {
       "metadata": {},
       "output_type": "pyout",
       "prompt_number": 5,
       "text": [
        "0    Bachmann, Michelle\n",
        "1    Bachmann, Michelle\n",
        "2    Bachmann, Michelle\n",
        "3    Bachmann, Michelle\n",
        "4    Bachmann, Michelle\n",
        "Name: cand_nm, dtype: object"
       ]
      }
     ],
     "prompt_number": 5
    },
    {
     "cell_type": "code",
     "collapsed": false,
     "input": [
      "# We have a dict of parties\n",
      "parties"
     ],
     "language": "python",
     "metadata": {},
     "outputs": [
      {
       "metadata": {},
       "output_type": "pyout",
       "prompt_number": 6,
       "text": [
        "{'Bachmann, Michelle': 'Republican',\n",
        " 'Cain, Herman': 'Republican',\n",
        " 'Gingrich, Newt': 'Republican',\n",
        " 'Huntsman, Jon': 'Republican',\n",
        " 'Johnson, Gary Earl': 'Libertarian',\n",
        " 'McCotter, Thaddeus G': 'Republican',\n",
        " 'Obama, Barack': 'Democrat',\n",
        " 'Paul, Ron': 'Republican',\n",
        " 'Pawlenty, Timothy': 'Republican',\n",
        " 'Perry, Rick': 'Republican',\n",
        " \"Roemer, Charles E. 'Buddy' III\": 'Reform',\n",
        " 'Romney, Mitt': 'Republican',\n",
        " 'Santorum, Rick': 'Republican'}"
       ]
      }
     ],
     "prompt_number": 6
    },
    {
     "cell_type": "code",
     "collapsed": false,
     "input": [
      "# [parties[x] for x in fec.cand_nm][:5]"
     ],
     "language": "python",
     "metadata": {},
     "outputs": [],
     "prompt_number": 9
    },
    {
     "cell_type": "code",
     "collapsed": false,
     "input": [
      "fec['party'] = fec.cand_nm.map(parties)"
     ],
     "language": "python",
     "metadata": {},
     "outputs": [],
     "prompt_number": 10
    },
    {
     "cell_type": "code",
     "collapsed": false,
     "input": [
      "fec.party[:5]"
     ],
     "language": "python",
     "metadata": {},
     "outputs": [
      {
       "metadata": {},
       "output_type": "pyout",
       "prompt_number": 11,
       "text": [
        "0    Republican\n",
        "1    Republican\n",
        "2    Republican\n",
        "3    Republican\n",
        "4    Republican\n",
        "Name: party, dtype: object"
       ]
      }
     ],
     "prompt_number": 11
    },
    {
     "cell_type": "code",
     "collapsed": false,
     "input": [
      "# Number of donations by party\n",
      "fec.party.value_counts() # Gives a history count"
     ],
     "language": "python",
     "metadata": {},
     "outputs": [
      {
       "metadata": {},
       "output_type": "pyout",
       "prompt_number": 12,
       "text": [
        "Democrat       292400\n",
        "Republican     237575\n",
        "Reform           5364\n",
        "Libertarian       702\n",
        "dtype: int64"
       ]
      }
     ],
     "prompt_number": 12
    },
    {
     "cell_type": "code",
     "collapsed": false,
     "input": [
      "fec"
     ],
     "language": "python",
     "metadata": {},
     "outputs": [
      {
       "html": [
        "<pre>\n",
        "&lt;class 'pandas.core.frame.DataFrame'&gt;\n",
        "Int64Index: 536041 entries, 0 to 536040\n",
        "Data columns (total 17 columns):\n",
        "cmte_id              536041  non-null values\n",
        "cand_id              536041  non-null values\n",
        "cand_nm              536041  non-null values\n",
        "contbr_nm            536041  non-null values\n",
        "contbr_city          536026  non-null values\n",
        "contbr_st            536040  non-null values\n",
        "contbr_zip           535973  non-null values\n",
        "contbr_employer      531417  non-null values\n",
        "contbr_occupation    531448  non-null values\n",
        "contb_receipt_amt    536041  non-null values\n",
        "contb_receipt_dt     536041  non-null values\n",
        "receipt_desc         8479  non-null values\n",
        "memo_cd              49718  non-null values\n",
        "memo_text            52740  non-null values\n",
        "form_tp              536041  non-null values\n",
        "file_num             536041  non-null values\n",
        "party                536041  non-null values\n",
        "dtypes: float64(1), int64(1), object(15)\n",
        "</pre>"
       ],
       "metadata": {},
       "output_type": "pyout",
       "prompt_number": 13,
       "text": [
        "<class 'pandas.core.frame.DataFrame'>\n",
        "Int64Index: 536041 entries, 0 to 536040\n",
        "Data columns (total 17 columns):\n",
        "cmte_id              536041  non-null values\n",
        "cand_id              536041  non-null values\n",
        "cand_nm              536041  non-null values\n",
        "contbr_nm            536041  non-null values\n",
        "contbr_city          536026  non-null values\n",
        "contbr_st            536040  non-null values\n",
        "contbr_zip           535973  non-null values\n",
        "contbr_employer      531417  non-null values\n",
        "contbr_occupation    531448  non-null values\n",
        "contb_receipt_amt    536041  non-null values\n",
        "contb_receipt_dt     536041  non-null values\n",
        "receipt_desc         8479  non-null values\n",
        "memo_cd              49718  non-null values\n",
        "memo_text            52740  non-null values\n",
        "form_tp              536041  non-null values\n",
        "file_num             536041  non-null values\n",
        "party                536041  non-null values\n",
        "dtypes: float64(1), int64(1), object(15)"
       ]
      }
     ],
     "prompt_number": 13
    },
    {
     "cell_type": "code",
     "collapsed": false,
     "input": [
      "fec.groupby('party')['contb_receipt_amt'].sum()"
     ],
     "language": "python",
     "metadata": {},
     "outputs": [
      {
       "metadata": {},
       "output_type": "pyout",
       "prompt_number": 15,
       "text": [
        "party\n",
        "Democrat       8.105758e+07\n",
        "Libertarian    4.132769e+05\n",
        "Reform         3.390338e+05\n",
        "Republican     1.192255e+08\n",
        "Name: contb_receipt_amt, dtype: float64"
       ]
      }
     ],
     "prompt_number": 15
    },
    {
     "cell_type": "code",
     "collapsed": false,
     "input": [
      "    fec.groupby(['party', 'contb_receipt_dt'])['contb_receipt_amt'].sum()[:5]"
     ],
     "language": "python",
     "metadata": {},
     "outputs": [
      {
       "metadata": {},
       "output_type": "pyout",
       "prompt_number": 25,
       "text": [
        "party     contb_receipt_dt\n",
        "Democrat  2011-04-04          640235.12\n",
        "          2011-04-05          307641.00\n",
        "          2011-04-06          247542.59\n",
        "          2011-04-07          252336.00\n",
        "          2011-04-08          295452.00\n",
        "Name: contb_receipt_amt, dtype: float64"
       ]
      }
     ],
     "prompt_number": 25
    },
    {
     "cell_type": "code",
     "collapsed": false,
     "input": [
      "by_date = fec.groupby(['party', 'contb_receipt_dt'])['contb_receipt_amt'].sum()"
     ],
     "language": "python",
     "metadata": {},
     "outputs": [],
     "prompt_number": 27
    },
    {
     "cell_type": "code",
     "collapsed": false,
     "input": [
      "by_date[:10]"
     ],
     "language": "python",
     "metadata": {},
     "outputs": [
      {
       "metadata": {},
       "output_type": "pyout",
       "prompt_number": 29,
       "text": [
        "party     contb_receipt_dt\n",
        "Democrat  2011-04-04          640235.12\n",
        "          2011-04-05          307641.00\n",
        "          2011-04-06          247542.59\n",
        "          2011-04-07          252336.00\n",
        "          2011-04-08          295452.00\n",
        "          2011-04-09          105879.00\n",
        "          2011-04-10          100373.00\n",
        "          2011-04-11          360728.00\n",
        "          2011-04-12          405160.46\n",
        "          2011-04-13          382836.33\n",
        "Name: contb_receipt_amt, dtype: float64"
       ]
      }
     ],
     "prompt_number": 29
    },
    {
     "cell_type": "code",
     "collapsed": false,
     "input": [
      "by_date.unstack('party') # Creates a pivot with party columns"
     ],
     "language": "python",
     "metadata": {},
     "outputs": [
      {
       "html": [
        "<pre>\n",
        "&lt;class 'pandas.core.frame.DataFrame'&gt;\n",
        "DatetimeIndex: 376 entries, 2011-01-01 00:00:00 to 2012-01-31 00:00:00\n",
        "Data columns (total 4 columns):\n",
        "Democrat       303  non-null values\n",
        "Libertarian    190  non-null values\n",
        "Reform         314  non-null values\n",
        "Republican     376  non-null values\n",
        "dtypes: float64(4)\n",
        "</pre>"
       ],
       "metadata": {},
       "output_type": "pyout",
       "prompt_number": 30,
       "text": [
        "<class 'pandas.core.frame.DataFrame'>\n",
        "DatetimeIndex: 376 entries, 2011-01-01 00:00:00 to 2012-01-31 00:00:00\n",
        "Data columns (total 4 columns):\n",
        "Democrat       303  non-null values\n",
        "Libertarian    190  non-null values\n",
        "Reform         314  non-null values\n",
        "Republican     376  non-null values\n",
        "dtypes: float64(4)"
       ]
      }
     ],
     "prompt_number": 30
    },
    {
     "cell_type": "code",
     "collapsed": false,
     "input": [
      "by_date.unstack('party').cumsum().plot()"
     ],
     "language": "python",
     "metadata": {},
     "outputs": [
      {
       "metadata": {},
       "output_type": "pyout",
       "prompt_number": 31,
       "text": [
        "<matplotlib.axes.AxesSubplot at 0x10d954590>"
       ]
      },
      {
       "metadata": {},
       "output_type": "display_data",
       "png": "[encoded data removed]",
       "text": [
        "<matplotlib.figure.Figure at 0x1110fa6d0>"
       ]
      }
     ],
     "prompt_number": 31
    },
    {
     "cell_type": "code",
     "collapsed": false,
     "input": [
      "by_date.unstack('party')[-20:].stack()[:10]"
     ],
     "language": "python",
     "metadata": {},
     "outputs": [
      {
       "metadata": {},
       "output_type": "pyout",
       "prompt_number": 36,
       "text": [
        "contb_receipt_dt  party     \n",
        "2012-01-12        Democrat      467212.53\n",
        "                  Reform           625.00\n",
        "                  Republican    348327.39\n",
        "2012-01-13        Democrat      374570.48\n",
        "                  Reform           351.00\n",
        "                  Republican    463368.26\n",
        "2012-01-14        Democrat       81687.80\n",
        "                  Reform           200.00\n",
        "                  Republican    608470.68\n",
        "2012-01-15        Democrat       72983.50\n",
        "dtype: float64"
       ]
      }
     ],
     "prompt_number": 36
    },
    {
     "cell_type": "code",
     "collapsed": false,
     "input": [
      "# Stacking and Unstacking\n",
      "by_date.unstack('party')[:5]"
     ],
     "language": "python",
     "metadata": {},
     "outputs": [
      {
       "html": [
        "<div style=\"max-height:1000px;max-width:1500px;overflow:auto;\">\n",
        "<table border=\"1\" class=\"dataframe\">\n",
        "  <thead>\n",
        "    <tr style=\"text-align: right;\">\n",
        "      <th>party</th>\n",
        "      <th>Democrat</th>\n",
        "      <th>Libertarian</th>\n",
        "      <th>Reform</th>\n",
        "      <th>Republican</th>\n",
        "    </tr>\n",
        "    <tr>\n",
        "      <th>contb_receipt_dt</th>\n",
        "      <th></th>\n",
        "      <th></th>\n",
        "      <th></th>\n",
        "      <th></th>\n",
        "    </tr>\n",
        "  </thead>\n",
        "  <tbody>\n",
        "    <tr>\n",
        "      <th>2011-01-01</th>\n",
        "      <td>NaN</td>\n",
        "      <td>NaN</td>\n",
        "      <td>NaN</td>\n",
        "      <td> 8600</td>\n",
        "    </tr>\n",
        "    <tr>\n",
        "      <th>2011-01-03</th>\n",
        "      <td>NaN</td>\n",
        "      <td>NaN</td>\n",
        "      <td>NaN</td>\n",
        "      <td> 4800</td>\n",
        "    </tr>\n",
        "    <tr>\n",
        "      <th>2011-01-04</th>\n",
        "      <td>NaN</td>\n",
        "      <td>NaN</td>\n",
        "      <td>NaN</td>\n",
        "      <td> 5000</td>\n",
        "    </tr>\n",
        "    <tr>\n",
        "      <th>2011-01-12</th>\n",
        "      <td>NaN</td>\n",
        "      <td>NaN</td>\n",
        "      <td>NaN</td>\n",
        "      <td> 4150</td>\n",
        "    </tr>\n",
        "    <tr>\n",
        "      <th>2011-01-13</th>\n",
        "      <td>NaN</td>\n",
        "      <td>NaN</td>\n",
        "      <td>NaN</td>\n",
        "      <td> 4000</td>\n",
        "    </tr>\n",
        "  </tbody>\n",
        "</table>\n",
        "</div>"
       ],
       "metadata": {},
       "output_type": "pyout",
       "prompt_number": 37,
       "text": [
        "party             Democrat  Libertarian  Reform  Republican\n",
        "contb_receipt_dt                                           \n",
        "2011-01-01             NaN          NaN     NaN        8600\n",
        "2011-01-03             NaN          NaN     NaN        4800\n",
        "2011-01-04             NaN          NaN     NaN        5000\n",
        "2011-01-12             NaN          NaN     NaN        4150\n",
        "2011-01-13             NaN          NaN     NaN        4000"
       ]
      }
     ],
     "prompt_number": 37
    },
    {
     "cell_type": "code",
     "collapsed": false,
     "input": [
      "by_date.unstack('party').stack()[:5]"
     ],
     "language": "python",
     "metadata": {},
     "outputs": [
      {
       "metadata": {},
       "output_type": "pyout",
       "prompt_number": 38,
       "text": [
        "contb_receipt_dt  party     \n",
        "2011-01-01        Republican    8600\n",
        "2011-01-03        Republican    4800\n",
        "2011-01-04        Republican    5000\n",
        "2011-01-12        Republican    4150\n",
        "2011-01-13        Republican    4000\n",
        "dtype: float64"
       ]
      }
     ],
     "prompt_number": 38
    },
    {
     "cell_type": "code",
     "collapsed": false,
     "input": [
      "s = by_date.unstack('party')[-5:].stack()\n",
      "df = s.unstack('party')\n",
      "set_printoptions(notebook_repr_html=False)\n",
      "concat([df,df],axis=1, keys=['A','B'])['A']"
     ],
     "language": "python",
     "metadata": {},
     "outputs": [
      {
       "metadata": {},
       "output_type": "pyout",
       "prompt_number": 46,
       "text": [
        "party               Democrat   Reform  Republican\n",
        "contb_receipt_dt                                 \n",
        "2012-01-27         305785.47  3176.37   368441.82\n",
        "2012-01-28         235492.85   175.00    82775.80\n",
        "2012-01-29          93177.00   200.00    75220.02\n",
        "2012-01-30         435921.72   130.00   255204.80\n",
        "2012-01-31        1418410.31   150.00   869890.41"
       ]
      }
     ],
     "prompt_number": 46
    },
    {
     "cell_type": "code",
     "collapsed": false,
     "input": [
      "concat([df,df],axis=1, keys=['A','B'])['B']"
     ],
     "language": "python",
     "metadata": {},
     "outputs": [
      {
       "metadata": {},
       "output_type": "pyout",
       "prompt_number": 47,
       "text": [
        "party               Democrat   Reform  Republican\n",
        "contb_receipt_dt                                 \n",
        "2012-01-27         305785.47  3176.37   368441.82\n",
        "2012-01-28         235492.85   175.00    82775.80\n",
        "2012-01-29          93177.00   200.00    75220.02\n",
        "2012-01-30         435921.72   130.00   255204.80\n",
        "2012-01-31        1418410.31   150.00   869890.41"
       ]
      }
     ],
     "prompt_number": 47
    },
    {
     "cell_type": "code",
     "collapsed": false,
     "input": [
      "concat([df,df],axis=1, keys=['A','B']).stack('party')"
     ],
     "language": "python",
     "metadata": {},
     "outputs": [
      {
       "metadata": {},
       "output_type": "pyout",
       "prompt_number": 48,
       "text": [
        "                                      A           B\n",
        "contb_receipt_dt party                             \n",
        "2012-01-27       Democrat     305785.47   305785.47\n",
        "                 Reform         3176.37     3176.37\n",
        "                 Republican   368441.82   368441.82\n",
        "2012-01-28       Democrat     235492.85   235492.85\n",
        "                 Reform          175.00      175.00\n",
        "                 Republican    82775.80    82775.80\n",
        "2012-01-29       Democrat      93177.00    93177.00\n",
        "                 Reform          200.00      200.00\n",
        "                 Republican    75220.02    75220.02\n",
        "2012-01-30       Democrat     435921.72   435921.72\n",
        "                 Reform          130.00      130.00\n",
        "                 Republican   255204.80   255204.80\n",
        "2012-01-31       Democrat    1418410.31  1418410.31\n",
        "                 Reform          150.00      150.00\n",
        "                 Republican   869890.41   869890.41"
       ]
      }
     ],
     "prompt_number": 48
    },
    {
     "cell_type": "code",
     "collapsed": false,
     "input": [
      "concat([df,df],axis=1, keys=['A','B']).stack(0)"
     ],
     "language": "python",
     "metadata": {},
     "outputs": [
      {
       "metadata": {},
       "output_type": "pyout",
       "prompt_number": 50,
       "text": [
        "party                 Democrat   Reform  Republican\n",
        "contb_receipt_dt                                   \n",
        "2012-01-27       A   305785.47  3176.37   368441.82\n",
        "                 B   305785.47  3176.37   368441.82\n",
        "2012-01-28       A   235492.85   175.00    82775.80\n",
        "                 B   235492.85   175.00    82775.80\n",
        "2012-01-29       A    93177.00   200.00    75220.02\n",
        "                 B    93177.00   200.00    75220.02\n",
        "2012-01-30       A   435921.72   130.00   255204.80\n",
        "                 B   435921.72   130.00   255204.80\n",
        "2012-01-31       A  1418410.31   150.00   869890.41\n",
        "                 B  1418410.31   150.00   869890.41"
       ]
      }
     ],
     "prompt_number": 50
    },
    {
     "cell_type": "code",
     "collapsed": false,
     "input": [
      "# Get top contributors by occupation\n",
      "fec\n"
     ],
     "language": "python",
     "metadata": {},
     "outputs": [
      {
       "metadata": {},
       "output_type": "pyout",
       "prompt_number": 51,
       "text": [
        "<class 'pandas.core.frame.DataFrame'>\n",
        "Int64Index: 536041 entries, 0 to 536040\n",
        "Data columns (total 17 columns):\n",
        "cmte_id              536041  non-null values\n",
        "cand_id              536041  non-null values\n",
        "cand_nm              536041  non-null values\n",
        "contbr_nm            536041  non-null values\n",
        "contbr_city          536026  non-null values\n",
        "contbr_st            536040  non-null values\n",
        "contbr_zip           535973  non-null values\n",
        "contbr_employer      531417  non-null values\n",
        "contbr_occupation    531448  non-null values\n",
        "contb_receipt_amt    536041  non-null values\n",
        "contb_receipt_dt     536041  non-null values\n",
        "receipt_desc         8479  non-null values\n",
        "memo_cd              49718  non-null values\n",
        "memo_text            52740  non-null values\n",
        "form_tp              536041  non-null values\n",
        "file_num             536041  non-null values\n",
        "party                536041  non-null values\n",
        "dtypes: datetime64[ns](1), float64(1), int64(1), object(14)"
       ]
      }
     ],
     "prompt_number": 51
    },
    {
     "cell_type": "code",
     "collapsed": false,
     "input": [
      "fec.groupby(['cand_nm', 'contbr_occupation']).sum()['contb_receipt_amt']"
     ],
     "language": "python",
     "metadata": {},
     "outputs": [
      {
       "metadata": {},
       "output_type": "pyout",
       "prompt_number": 55,
       "text": [
        "cand_nm             contbr_occupation             \n",
        "Bachmann, Michelle  100% DISABLED VETERAN              1869.50\n",
        "                    100% DISABLED VIETNAM VETERAN       236.25\n",
        "                    A/C AND HEAT                        250.00\n",
        "                    ACADEMIC EMPLOYMENT SPECIALIST       25.00\n",
        "                    ACCOUNT                              50.00\n",
        "                    ACCOUNT ANALYST                     200.00\n",
        "                    ACCOUNT EXECUTIVE                   100.00\n",
        "                    ACCOUNT MANAGER                     230.00\n",
        "                    ACCOUNTANT                        12979.00\n",
        "                    ACCOUNTANT TRAINER                  250.00\n",
        "                    ACCOUNTING                          350.00\n",
        "                    ACCOUNTING MANAGER                   50.00\n",
        "                    ACCOUNTING SPECIALIST               250.00\n",
        "                    ACCOUNTING SUPERVISOR               125.00\n",
        "                    ACCOUNTING/AUDITING                 700.00\n",
        "...\n",
        "Santorum, Rick  WILDLIFE REFUGE MANAGER       200.00\n",
        "                WIND FARM DEVELOPER           400.00\n",
        "                WINDOW CLEANER                 85.00\n",
        "                WINERY                        300.00\n",
        "                WIRELESS NETWORK ENGINEER     220.15\n",
        "                WITHHELD                     1000.00\n",
        "                WNG                           700.00\n",
        "                WORKER II                     300.00\n",
        "                WRITER                       4894.55\n",
        "                WRITER ACTIVIST              1112.00\n",
        "                WRITER EDITOR                 250.00\n",
        "                WRITER/ACCOUNT EXEC           500.00\n",
        "                WRITER/JOURNALIST             250.00\n",
        "                WRITER/LAWYER                 300.00\n",
        "                YOUTH MINISTER                250.00\n",
        "Name: contb_receipt_amt, Length: 40171, dtype: float64"
       ]
      }
     ],
     "prompt_number": 55
    },
    {
     "cell_type": "code",
     "collapsed": false,
     "input": [
      "result = fec.groupby(['cand_nm', 'contbr_occupation']).sum()['contb_receipt_amt']\n"
     ],
     "language": "python",
     "metadata": {},
     "outputs": [],
     "prompt_number": 56
    },
    {
     "cell_type": "code",
     "collapsed": false,
     "input": [
      "result.reset_index()"
     ],
     "language": "python",
     "metadata": {},
     "outputs": [
      {
       "metadata": {},
       "output_type": "pyout",
       "prompt_number": 58,
       "text": [
        "<class 'pandas.core.frame.DataFrame'>\n",
        "Int64Index: 40171 entries, 0 to 40170\n",
        "Data columns (total 3 columns):\n",
        "cand_nm              40171  non-null values\n",
        "contbr_occupation    40171  non-null values\n",
        "contb_receipt_amt    40171  non-null values\n",
        "dtypes: float64(1), object(2)"
       ]
      }
     ],
     "prompt_number": 58
    },
    {
     "cell_type": "code",
     "collapsed": false,
     "input": [
      "# We can remove the hierarchical indexing\n",
      "# Convert to DataFrame\n",
      "# Takes the Candidate Names and Occupations and\n",
      "# Sets them back to simple indexes\n",
      "result = fec.groupby(['cand_nm', 'contbr_occupation']).sum()\n",
      "\n",
      "result = result.reset_index()\n",
      "def top5_donors(group):\n",
      "    return group.sort_index(by='contb_receipt_amt')[-5:]\n",
      "\n",
      "set_printoptions(notebook_repr_html=True)\n",
      "top5_donors(result)[:5]"
     ],
     "language": "python",
     "metadata": {},
     "outputs": [
      {
       "html": [
        "<div style=\"max-height:1000px;max-width:1500px;overflow:auto;\">\n",
        "<table border=\"1\" class=\"dataframe\">\n",
        "  <thead>\n",
        "    <tr style=\"text-align: right;\">\n",
        "      <th></th>\n",
        "      <th>cand_nm</th>\n",
        "      <th>contbr_occupation</th>\n",
        "      <th>contb_receipt_amt</th>\n",
        "      <th>file_num</th>\n",
        "    </tr>\n",
        "  </thead>\n",
        "  <tbody>\n",
        "    <tr>\n",
        "      <th>36325</th>\n",
        "      <td>  Romney, Mitt</td>\n",
        "      <td>                              HOMEMAKER</td>\n",
        "      <td>  5442013.48</td>\n",
        "      <td>  3071313520</td>\n",
        "    </tr>\n",
        "    <tr>\n",
        "      <th>36419</th>\n",
        "      <td>  Romney, Mitt</td>\n",
        "      <td> INFORMATION REQUESTED PER BEST EFFORTS</td>\n",
        "      <td>  6394753.06</td>\n",
        "      <td>  5099292740</td>\n",
        "    </tr>\n",
        "    <tr>\n",
        "      <th>37919</th>\n",
        "      <td>  Romney, Mitt</td>\n",
        "      <td>                                RETIRED</td>\n",
        "      <td>  6483596.24</td>\n",
        "      <td>  9766405414</td>\n",
        "    </tr>\n",
        "    <tr>\n",
        "      <th>7091 </th>\n",
        "      <td> Obama, Barack</td>\n",
        "      <td>                               ATTORNEY</td>\n",
        "      <td>  7112343.35</td>\n",
        "      <td> 10125124417</td>\n",
        "    </tr>\n",
        "    <tr>\n",
        "      <th>18862</th>\n",
        "      <td> Obama, Barack</td>\n",
        "      <td>                                RETIRED</td>\n",
        "      <td> 15086766.92</td>\n",
        "      <td> 56651749795</td>\n",
        "    </tr>\n",
        "  </tbody>\n",
        "</table>\n",
        "</div>"
       ],
       "metadata": {},
       "output_type": "pyout",
       "prompt_number": 71,
       "text": [
        "             cand_nm                       contbr_occupation  contb_receipt_amt     file_num\n",
        "36325   Romney, Mitt                               HOMEMAKER         5442013.48   3071313520\n",
        "36419   Romney, Mitt  INFORMATION REQUESTED PER BEST EFFORTS         6394753.06   5099292740\n",
        "37919   Romney, Mitt                                 RETIRED         6483596.24   9766405414\n",
        "7091   Obama, Barack                                ATTORNEY         7112343.35  10125124417\n",
        "18862  Obama, Barack                                 RETIRED        15086766.92  56651749795"
       ]
      }
     ],
     "prompt_number": 71
    },
    {
     "cell_type": "code",
     "collapsed": false,
     "input": [
      "pandas.__version__"
     ],
     "language": "python",
     "metadata": {},
     "outputs": [
      {
       "metadata": {},
       "output_type": "pyout",
       "prompt_number": 72,
       "text": [
        "'0.12.0'"
       ]
      }
     ],
     "prompt_number": 72
    },
    {
     "cell_type": "code",
     "collapsed": false,
     "input": [],
     "language": "python",
     "metadata": {},
     "outputs": []
    }
   ],
   "metadata": {}
  }
 ]
}